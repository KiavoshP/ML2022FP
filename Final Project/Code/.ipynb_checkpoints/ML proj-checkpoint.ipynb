{
 "cells": [
  {
   "cell_type": "code",
   "execution_count": null,
   "id": "57227bca",
   "metadata": {},
   "outputs": [],
   "source": [
    "import os\n",
    "import numpy as np\n",
    "import pandas as pd\n",
    "from matplotlib import pyplot as plt\n",
    "from sklearn.cluster import KMeans\n",
    "from sklearn.preprocessing import StandardScaler\n",
    "from sklearn.decomposition import PCA\n",
    "from sklearn.linear_model import LogisticRegression"
   ]
  },
  {
   "cell_type": "code",
   "execution_count": null,
   "id": "745d8082-ed75-4ae9-9e05-3aa0987fb88d",
   "metadata": {},
   "outputs": [],
   "source": [
    "path_Ad = 'C:\\\\Users\\\\Kiavosh\\\\Desktop\\\\School\\\\4641\\\\Final Project\\\\merged_all_new_12TO18.csv'\n",
    "merged_12TO18 =  pd.read_csv(path_Ad)\n",
    "merged_12TO18.columns[0:4].tolist()\n",
    "merged_12TO18.drop(['Unnamed: 0', 'Date', 'HomeTeam', 'AwayTeam','FTR'],1)\n",
    "merged_12TO18 = merged_12TO18.reset_index()\n",
    "df = merged_12TO18.drop(['Unnamed: 0', 'Date', 'HomeTeam', 'AwayTeam', 'FTR'],1).reset_index()\n",
    "for i in df.columns.tolist():\n",
    "    df[i].replace('', np.nan, inplace=True)\n",
    "    df.dropna(subset=[i], inplace=True)\n",
    "X = df.to_numpy()\n",
    "X = StandardScaler().fit_transform(X)\n",
    "pca = PCA(n_components=2)\n",
    "X = pca.fit_transform(X)"
   ]
  },
  {
   "cell_type": "code",
   "execution_count": null,
   "id": "dbc13b59-0da8-498b-bb0d-9c7caa09c341",
   "metadata": {},
   "outputs": [],
   "source": [
    "#--------------- Elbow to find see the best number of cluster\n",
    "wcss = []\n",
    "for i in range(1, 11):\n",
    "    kmeans = KMeans(n_clusters=i, init='k-means++', max_iter=300, n_init=10, random_state=0)\n",
    "    kmeans.fit(X)\n",
    "    wcss.append(kmeans.inertia_)\n",
    "plt.plot(range(1, 11), wcss)\n",
    "plt.title('Elbow Method')\n",
    "plt.xlabel('Number of clusters')\n",
    "plt.ylabel('WCSS')\n",
    "plt.show() \n"
   ]
  },
  {
   "cell_type": "code",
   "execution_count": null,
   "id": "bfea4850-f061-48a1-96f3-c41a16a462f6",
   "metadata": {},
   "outputs": [],
   "source": [
    "\n",
    "n_cluster = 3\n",
    "\n",
    "#--------------- Selecting the best n as our n_cluster\n",
    "kmeans = KMeans(n_cluster, init='k-means++', max_iter=300, n_init=300, random_state=0)\n",
    "pred_y = kmeans.fit_predict(X)\n",
    "\n",
    "#--------------- Viz our clusters\n",
    "plt.scatter(X[:,0], X[:,1])\n",
    "plt.scatter(kmeans.cluster_centers_[:, 0], kmeans.cluster_centers_[:, 1], s=300, c='red')\n",
    "plt.show()\n",
    "\n",
    "\n",
    "\n",
    "cluster_map['data_index'] = df.index.values\n",
    "cluster_map['cluster'] = kmeans.labels_"
   ]
  }
 ],
 "metadata": {
  "kernelspec": {
   "display_name": "Python 3 (ipykernel)",
   "language": "python",
   "name": "python3"
  },
  "language_info": {
   "codemirror_mode": {
    "name": "ipython",
    "version": 3
   },
   "file_extension": ".py",
   "mimetype": "text/x-python",
   "name": "python",
   "nbconvert_exporter": "python",
   "pygments_lexer": "ipython3",
   "version": "3.9.7"
  }
 },
 "nbformat": 4,
 "nbformat_minor": 5
}
