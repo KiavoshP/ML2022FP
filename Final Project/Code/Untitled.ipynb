{
 "cells": [
  {
   "cell_type": "code",
   "execution_count": 12,
   "id": "514dc745",
   "metadata": {},
   "outputs": [],
   "source": [
    "\n",
    "path = 'C:\\\\Users\\\\Kiavosh\\\\Desktop\\\\School\\\\4641\\\\Final Project\\\\'\n",
    "for filename in os.listdir(path)[:-2]:\n",
    "    allFiles = os.listdir(path + filename)\n",
    "    pd1 =  pd.read_csv(path+filename+'\\\\'+allFiles[0])\n",
    "    pd2 =  pd.read_csv(path+filename+'\\\\'+allFiles[1])    \n",
    "    pd3 =  pd.read_csv(path+filename+'\\\\'+allFiles[2])    \n",
    "    pd4 =  pd.read_csv(path+filename+'\\\\'+allFiles[3]) \n",
    "    pd5 =  pd.read_csv(path+filename+'\\\\'+allFiles[4])\n",
    "    pd5 = pd5.loc[:, pd5.columns!='Referee']\n",
    "    pd1 = pd1.append(pd2)\n",
    "    pd1 = pd1.append(pd3)\n",
    "    pd1 = pd1.append(pd4)\n",
    "    pd1 = pd1.loc[:, pd1.columns!='Unnamed: 0']\n",
    "    pd1 = pd1.append(pd5)\n",
    "    pd1.to_csv(path+filename+'\\\\'+'merged.csv')"
   ]
  },
  {
   "cell_type": "code",
   "execution_count": null,
   "id": "4f314c68-563e-4a53-8e48-0743a8222847",
   "metadata": {},
   "outputs": [],
   "source": []
  },
  {
   "cell_type": "code",
   "execution_count": 20,
   "id": "ca9db6de",
   "metadata": {},
   "outputs": [],
   "source": [
    "import os\n",
    "import pandas as pd"
   ]
  },
  {
   "cell_type": "code",
   "execution_count": 21,
   "id": "d133a847",
   "metadata": {},
   "outputs": [],
   "source": [
    "path = 'C:\\\\Users\\\\Kiavosh\\\\Desktop\\\\School\\\\4641\\\\Final Project\\\\'"
   ]
  },
  {
   "cell_type": "code",
   "execution_count": 22,
   "id": "60606d00",
   "metadata": {},
   "outputs": [],
   "source": [
    "import os\n",
    "import pandas as pd\n",
    "path = 'C:\\\\Users\\\\Kiavosh\\\\Desktop\\\\School\\\\4641\\\\Final Project\\\\'\n",
    "merged_orig =  pd.read_csv(path+'1213'+'\\\\'+'merged.csv')\n",
    "merged_orig = merged_orig.loc[:, merged_orig.columns!='Unnamed: 0']\n",
    "\n",
    "for filename in os.listdir(path)[1:8]:\n",
    "    allFiles = os.listdir(path + filename)\n",
    "    pd1 =  pd.read_csv(path+filename+'\\\\'+'merged.csv')\n",
    "    pd1 = pd1.loc[:, pd1.columns!='Unnamed: 0']\n",
    "    merged_orig = merged_orig.append(pd1)\n",
    "\n",
    "merged_orig.to_csv(path+'merged_all_new.csv')"
   ]
  },
  {
   "cell_type": "code",
   "execution_count": 25,
   "id": "a4494180",
   "metadata": {},
   "outputs": [
    {
     "data": {
      "text/plain": [
       "['1213', '1314', '1415', '1516', '1617', '1718', '1819']"
      ]
     },
     "execution_count": 25,
     "metadata": {},
     "output_type": "execute_result"
    }
   ],
   "source": [
    "os.listdir(path)[1:8]"
   ]
  },
  {
   "cell_type": "markdown",
   "id": "e79535b6",
   "metadata": {},
   "source": [
    "## AVG Creator"
   ]
  },
  {
   "cell_type": "code",
   "execution_count": 176,
   "id": "71da267a",
   "metadata": {},
   "outputs": [
    {
     "name": "stderr",
     "output_type": "stream",
     "text": [
      "C:\\Users\\Kiavosh\\AppData\\Local\\Temp/ipykernel_3436/2726905918.py:15: FutureWarning: Dropping of nuisance columns in DataFrame reductions (with 'numeric_only=None') is deprecated; in a future version this will raise TypeError.  Select only valid columns before calling the reduction.\n",
      "  dict_holder[indx] = (merged_orig.loc[merged_orig[\"HomeTeam\"] == indx,:]).mean()\n"
     ]
    }
   ],
   "source": [
    "import os\n",
    "import pandas as pd\n",
    "\n",
    "path = 'C:\\\\Users\\\\Kiavosh\\\\Desktop\\\\School\\\\4641\\\\Final Project\\\\'\n",
    "merged_orig =  pd.read_csv(path+'1213'+'\\\\'+'merged.csv')\n",
    "merged_orig = merged_orig.loc[:, merged_orig.columns!='Unnamed: 0']\n",
    "\n",
    "for filename in os.listdir(path)[1:8]:\n",
    "    path = 'C:\\\\Users\\\\Kiavosh\\\\Desktop\\\\School\\\\4641\\\\Final Project\\\\'\n",
    "    merged_orig =  pd.read_csv(path+filename+'\\\\'+'merged.csv')\n",
    "    merged_orig = merged_orig.loc[:, merged_orig.columns!='Unnamed: 0']\n",
    "    keys = list(set(merged_orig[\"HomeTeam\"]))\n",
    "    dict_holder = {k:v for k,v in zip(keys,range(0,len(keys)))}\n",
    "    \n",
    "    for indx in list(set(merged_orig[\"HomeTeam\"])):\n",
    "        dict_holder[indx] = (merged_orig.loc[merged_orig[\"HomeTeam\"] == indx,:]).mean()\n",
    "        \n",
    "    pd.DataFrame.from_dict(dict_holder).T.to_csv(path+filename\n",
    "                                                 +'pot_test_set.csv')"
   ]
  },
  {
   "cell_type": "code",
   "execution_count": 177,
   "id": "87d0b756",
   "metadata": {},
   "outputs": [],
   "source": [
    "import numpy as np\n",
    "import pandas as pd\n",
    "from matplotlib import pyplot as plt\n",
    "from sklearn.cluster import KMeans\n",
    "from sklearn.preprocessing import StandardScaler\n",
    "from sklearn.decomposition import PCA"
   ]
  },
  {
   "cell_type": "markdown",
   "id": "b1d73af9",
   "metadata": {},
   "source": [
    "# Withouth PCA and Standardization"
   ]
  },
  {
   "cell_type": "code",
   "execution_count": 178,
   "id": "b92d2b3b",
   "metadata": {},
   "outputs": [
    {
     "name": "stderr",
     "output_type": "stream",
     "text": [
      "C:\\Users\\Kiavosh\\AppData\\Local\\Temp/ipykernel_3436/3856667441.py:7: FutureWarning: In a future version of pandas all arguments of DataFrame.drop except for the argument 'labels' will be keyword-only\n",
      "  X = merged_orig.drop(\"Unnamed: 0\",1).to_numpy()\n",
      "C:\\Users\\Kiavosh\\anaconda3\\lib\\site-packages\\sklearn\\cluster\\_kmeans.py:881: UserWarning: KMeans is known to have a memory leak on Windows with MKL, when there are less chunks than available threads. You can avoid it by setting the environment variable OMP_NUM_THREADS=1.\n",
      "  warnings.warn(\n"
     ]
    },
    {
     "data": {
      "image/png": "[encoded data removed]",
      "text/plain": [
       "<Figure size 432x288 with 1 Axes>"
      ]
     },
     "metadata": {
      "needs_background": "light"
     },
     "output_type": "display_data"
    },
    {
     "data": {
      "image/png": "[encoded data removed]",
      "text/plain": [
       "<Figure size 432x288 with 1 Axes>"
      ]
     },
     "metadata": {
      "needs_background": "light"
     },
     "output_type": "display_data"
    }
   ],
   "source": [
    "path_Ad = 'C:\\\\Users\\\\Kiavosh\\\\Desktop\\\\School\\\\4641\\\\Final Project\\\\1213pot_test_set.csv'\n",
    "merged_orig =  pd.read_csv(path_Ad)\n",
    "right_features_Ad = 'C:\\\\Users\\\\Kiavosh\\\\Desktop\\\\School\\\\4641\\\\Final Project\\\\merged_All(fixed).csv'\n",
    "right_features = pd.read_csv(right_features_Ad)\n",
    "correct_col = [i for i in right_features.columns if i not in ['Div', 'Date', 'HomeTeam', 'AwayTeam', 'FTR', 'HTR']]\n",
    "merged_orig = merged_orig[correct_col]\n",
    "X = merged_orig.drop(\"Unnamed: 0\",1).to_numpy()\n",
    "\n",
    "\n",
    "#--------------- Elbow to find see the best number of cluster\n",
    "wcss = []\n",
    "for i in range(1, 11):\n",
    "    kmeans = KMeans(n_clusters=i, init='k-means++', max_iter=300, n_init=10, random_state=0)\n",
    "    kmeans.fit(X)\n",
    "    wcss.append(kmeans.inertia_)\n",
    "plt.plot(range(1, 11), wcss)\n",
    "plt.title('Elbow Method')\n",
    "plt.xlabel('Number of clusters')\n",
    "plt.ylabel('WCSS')\n",
    "plt.show() \n",
    "\n",
    "#--------------- Selecting the best n as our n_cluster\n",
    "kmeans = KMeans(n_clusters=8, init='k-means++', max_iter=300, n_init=300, random_state=0)\n",
    "pred_y = kmeans.fit_predict(X)\n",
    "\n",
    "#--------------- Viz our clusters\n",
    "plt.scatter(X[:,0], X[:,1])\n",
    "plt.scatter(kmeans.cluster_centers_[:, 0], kmeans.cluster_centers_[:, 1], s=300, c='red')\n",
    "plt.show()\n",
    "\n"
   ]
  },
  {
   "cell_type": "markdown",
   "id": "880d4af3",
   "metadata": {},
   "source": [
    "# With PCA and Standardization"
   ]
  },
  {
   "cell_type": "code",
   "execution_count": 180,
   "id": "ab460479",
   "metadata": {},
   "outputs": [
    {
     "name": "stderr",
     "output_type": "stream",
     "text": [
      "C:\\Users\\Kiavosh\\AppData\\Local\\Temp/ipykernel_3436/513343560.py:7: FutureWarning: In a future version of pandas all arguments of DataFrame.drop except for the argument 'labels' will be keyword-only\n",
      "  X = merged_orig.drop(\"Unnamed: 0\",1).to_numpy()\n",
      "C:\\Users\\Kiavosh\\anaconda3\\lib\\site-packages\\sklearn\\cluster\\_kmeans.py:881: UserWarning: KMeans is known to have a memory leak on Windows with MKL, when there are less chunks than available threads. You can avoid it by setting the environment variable OMP_NUM_THREADS=1.\n",
      "  warnings.warn(\n"
     ]
    },
    {
     "data": {
      "image/png": "[encoded data removed]",
      "text/plain": [
       "<Figure size 432x288 with 1 Axes>"
      ]
     },
     "metadata": {
      "needs_background": "light"
     },
     "output_type": "display_data"
    },
    {
     "data": {
      "image/png": "[encoded data removed]",
      "text/plain": [
       "<Figure size 432x288 with 1 Axes>"
      ]
     },
     "metadata": {
      "needs_background": "light"
     },
     "output_type": "display_data"
    }
   ],
   "source": [
    "path_Ad = 'C:\\\\Users\\\\Kiavosh\\\\Desktop\\\\School\\\\4641\\\\Final Project\\\\1213pot_test_set.csv'\n",
    "merged_orig =  pd.read_csv(path_Ad)\n",
    "right_features_Ad = 'C:\\\\Users\\\\Kiavosh\\\\Desktop\\\\School\\\\4641\\\\Final Project\\\\merged_All(fixed).csv'\n",
    "right_features = pd.read_csv(right_features_Ad)\n",
    "correct_col = [i for i in right_features.columns if i not in ['Div', 'Date', 'HomeTeam', 'AwayTeam', 'FTR', 'HTR']]\n",
    "merged_orig = merged_orig[correct_col]\n",
    "X = merged_orig.drop(\"Unnamed: 0\",1).to_numpy()\n",
    "\n",
    "#--------------- Standardization & PCA\n",
    "X = StandardScaler().fit_transform(X)\n",
    "\n",
    "pca = PCA(n_components=2)\n",
    "X = pca.fit_transform(X)\n",
    "\n",
    "#--------------- Elbow to find see the best number of cluster\n",
    "wcss = []\n",
    "for i in range(1, 11):\n",
    "    kmeans = KMeans(n_clusters=i, init='k-means++', max_iter=300, n_init=10, random_state=0)\n",
    "    kmeans.fit(X)\n",
    "    wcss.append(kmeans.inertia_)\n",
    "plt.plot(range(1, 11), wcss)\n",
    "plt.title('Elbow Method')\n",
    "plt.xlabel('Number of clusters')\n",
    "plt.ylabel('WCSS')\n",
    "plt.show() \n",
    "\n",
    "\n",
    "#--------------- Selecting the best n as our n_cluster\n",
    "kmeans = KMeans(n_clusters=4, init='k-means++', max_iter=300, n_init=300, random_state=0)\n",
    "pred_y = kmeans.fit_predict(X)\n",
    "\n",
    "#--------------- Viz our clusters\n",
    "plt.scatter(X[:,0], X[:,1])\n",
    "plt.scatter(kmeans.cluster_centers_[:, 0], kmeans.cluster_centers_[:, 1], s=300, c='red')\n",
    "plt.show()\n",
    "\n"
   ]
  },
  {
   "cell_type": "code",
   "execution_count": 182,
   "id": "5b258f37",
   "metadata": {},
   "outputs": [
    {
     "data": {
      "text/plain": [
       "2"
      ]
     },
     "execution_count": 182,
     "metadata": {},
     "output_type": "execute_result"
    }
   ],
   "source": [
    "len(X[1]) "
   ]
  },
  {
   "cell_type": "code",
   "execution_count": 135,
   "id": "4a2d099e",
   "metadata": {},
   "outputs": [],
   "source": [
    "kmeans = KMeans(n_clusters=3, init='k-means++', max_iter=300, n_init=300, random_state=0)\n",
    "pred_y = kmeans.fit_predict(X)"
   ]
  },
  {
   "cell_type": "code",
   "execution_count": 136,
   "id": "90c3ac88",
   "metadata": {},
   "outputs": [
    {
     "data": {
      "text/plain": [
       "<matplotlib.collections.PathCollection at 0x24925ee0c70>"
      ]
     },
     "execution_count": 136,
     "metadata": {},
     "output_type": "execute_result"
    },
    {
     "data": {
      "image/png": "[encoded data removed]",
      "text/plain": [
       "<Figure size 432x288 with 1 Axes>"
      ]
     },
     "metadata": {
      "needs_background": "light"
     },
     "output_type": "display_data"
    }
   ],
   "source": [
    "plt.scatter(X[:,0], X[:,1])"
   ]
  },
  {
   "cell_type": "code",
   "execution_count": 137,
   "id": "02ad8255",
   "metadata": {},
   "outputs": [
    {
     "data": {
      "image/png": "[encoded data removed]",
      "text/plain": [
       "<Figure size 432x288 with 1 Axes>"
      ]
     },
     "metadata": {
      "needs_background": "light"
     },
     "output_type": "display_data"
    }
   ],
   "source": [
    "plt.scatter(X[:,0], X[:,1])\n",
    "plt.scatter(kmeans.cluster_centers_[:, 0], kmeans.cluster_centers_[:, 1], s=300, c='red')\n",
    "plt.show()"
   ]
  },
  {
   "cell_type": "markdown",
   "id": "2bfb1300",
   "metadata": {},
   "source": [
    "<h1>TODO</h1>\n",
    "<h4>convert the packages to years and merge </h4>"
   ]
  },
  {
   "cell_type": "code",
   "execution_count": 79,
   "id": "6ed334c2",
   "metadata": {},
   "outputs": [
    {
     "name": "stdout",
     "output_type": "stream",
     "text": [
      "Collecting datapackage\n",
      "  Downloading datapackage-1.15.2-py2.py3-none-any.whl (85 kB)\n",
      "Requirement already satisfied: jsonschema>=2.5 in c:\\users\\kiavosh\\anaconda3\\lib\\site-packages (from datapackage) (3.2.0)\n",
      "Requirement already satisfied: unicodecsv>=0.14 in c:\\users\\kiavosh\\anaconda3\\lib\\site-packages (from datapackage) (0.14.1)\n",
      "Requirement already satisfied: six>=1.10 in c:\\users\\kiavosh\\anaconda3\\lib\\site-packages (from datapackage) (1.16.0)\n",
      "Collecting tableschema>=1.12.1\n",
      "  Downloading tableschema-1.20.2-py2.py3-none-any.whl (68 kB)\n",
      "Requirement already satisfied: chardet>=3.0 in c:\\users\\kiavosh\\anaconda3\\lib\\site-packages (from datapackage) (4.0.0)\n",
      "Collecting jsonpointer>=1.10\n",
      "  Downloading jsonpointer-2.2-py2.py3-none-any.whl (7.5 kB)\n",
      "Requirement already satisfied: click>=6.7 in c:\\users\\kiavosh\\anaconda3\\lib\\site-packages (from datapackage) (8.0.3)\n",
      "Collecting tabulator>=1.29\n",
      "  Downloading tabulator-1.53.5-py2.py3-none-any.whl (72 kB)\n",
      "Requirement already satisfied: requests>=2.8 in c:\\users\\kiavosh\\anaconda3\\lib\\site-packages (from datapackage) (2.26.0)\n",
      "Requirement already satisfied: colorama in c:\\users\\kiavosh\\anaconda3\\lib\\site-packages (from click>=6.7->datapackage) (0.4.4)\n",
      "Requirement already satisfied: attrs>=17.4.0 in c:\\users\\kiavosh\\anaconda3\\lib\\site-packages (from jsonschema>=2.5->datapackage) (21.2.0)\n",
      "Requirement already satisfied: pyrsistent>=0.14.0 in c:\\users\\kiavosh\\anaconda3\\lib\\site-packages (from jsonschema>=2.5->datapackage) (0.18.0)\n",
      "Requirement already satisfied: setuptools in c:\\users\\kiavosh\\anaconda3\\lib\\site-packages (from jsonschema>=2.5->datapackage) (58.0.4)\n",
      "Requirement already satisfied: idna<4,>=2.5 in c:\\users\\kiavosh\\anaconda3\\lib\\site-packages (from requests>=2.8->datapackage) (3.2)\n",
      "Requirement already satisfied: certifi>=2017.4.17 in c:\\users\\kiavosh\\anaconda3\\lib\\site-packages (from requests>=2.8->datapackage) (2021.10.8)\n",
      "Requirement already satisfied: urllib3<1.27,>=1.21.1 in c:\\users\\kiavosh\\anaconda3\\lib\\site-packages (from requests>=2.8->datapackage) (1.26.7)\n",
      "Requirement already satisfied: charset-normalizer~=2.0.0 in c:\\users\\kiavosh\\anaconda3\\lib\\site-packages (from requests>=2.8->datapackage) (2.0.4)\n",
      "Collecting isodate>=0.5.4\n",
      "  Downloading isodate-0.6.1-py2.py3-none-any.whl (41 kB)\n",
      "Requirement already satisfied: python-dateutil>=2.4 in c:\\users\\kiavosh\\anaconda3\\lib\\site-packages (from tableschema>=1.12.1->datapackage) (2.8.2)\n",
      "Collecting rfc3986>=1.1.0\n",
      "  Downloading rfc3986-2.0.0-py2.py3-none-any.whl (31 kB)\n",
      "Requirement already satisfied: cached-property>=1.5 in c:\\users\\kiavosh\\anaconda3\\lib\\site-packages (from tableschema>=1.12.1->datapackage) (1.5.2)\n",
      "Collecting boto3>=1.9\n",
      "  Downloading boto3-1.21.3-py3-none-any.whl (132 kB)\n",
      "Requirement already satisfied: xlrd>=1.0 in c:\\users\\kiavosh\\anaconda3\\lib\\site-packages (from tabulator>=1.29->datapackage) (2.0.1)\n",
      "Requirement already satisfied: sqlalchemy>=0.9.6 in c:\\users\\kiavosh\\anaconda3\\lib\\site-packages (from tabulator>=1.29->datapackage) (1.4.22)\n",
      "Collecting linear-tsv>=1.0\n",
      "  Downloading linear-tsv-1.1.0.tar.gz (9.6 kB)\n",
      "Requirement already satisfied: openpyxl>=2.6 in c:\\users\\kiavosh\\anaconda3\\lib\\site-packages (from tabulator>=1.29->datapackage) (3.0.9)\n",
      "Collecting ijson>=3.0.3\n",
      "  Downloading ijson-3.1.4-cp39-cp39-win_amd64.whl (48 kB)\n",
      "Collecting jsonlines>=1.1\n",
      "  Downloading jsonlines-3.0.0-py3-none-any.whl (8.5 kB)\n",
      "Collecting s3transfer<0.6.0,>=0.5.0\n",
      "  Downloading s3transfer-0.5.1-py3-none-any.whl (79 kB)\n",
      "Collecting botocore<1.25.0,>=1.24.3\n",
      "  Downloading botocore-1.24.3-py3-none-any.whl (8.5 MB)\n",
      "Collecting jmespath<1.0.0,>=0.7.1\n",
      "  Downloading jmespath-0.10.0-py2.py3-none-any.whl (24 kB)\n",
      "Requirement already satisfied: et-xmlfile in c:\\users\\kiavosh\\anaconda3\\lib\\site-packages (from openpyxl>=2.6->tabulator>=1.29->datapackage) (1.1.0)\n",
      "Requirement already satisfied: greenlet!=0.4.17 in c:\\users\\kiavosh\\anaconda3\\lib\\site-packages (from sqlalchemy>=0.9.6->tabulator>=1.29->datapackage) (1.1.1)\n",
      "Building wheels for collected packages: linear-tsv\n",
      "  Building wheel for linear-tsv (setup.py): started\n",
      "  Building wheel for linear-tsv (setup.py): finished with status 'done'\n",
      "  Created wheel for linear-tsv: filename=linear_tsv-1.1.0-py3-none-any.whl size=7399 sha256=1910c6487b4797fcc2ceb19d0005e1d62ac832a2e4d127bfa8b3238df284742d\n",
      "  Stored in directory: c:\\users\\kiavosh\\appdata\\local\\pip\\cache\\wheels\\b5\\eb\\b6\\e409f80d7fec532e4240dda9562cad374257d2dd010b40cfff\n",
      "Successfully built linear-tsv\n",
      "Installing collected packages: jmespath, botocore, s3transfer, linear-tsv, jsonlines, ijson, boto3, tabulator, rfc3986, isodate, tableschema, jsonpointer, datapackage\n",
      "Successfully installed boto3-1.21.3 botocore-1.24.3 datapackage-1.15.2 ijson-3.1.4 isodate-0.6.1 jmespath-0.10.0 jsonlines-3.0.0 jsonpointer-2.2 linear-tsv-1.1.0 rfc3986-2.0.0 s3transfer-0.5.1 tableschema-1.20.2 tabulator-1.53.5\n",
      "Note: you may need to restart the kernel to use updated packages.\n"
     ]
    }
   ],
   "source": [
    "pip install datapackage"
   ]
  },
  {
   "cell_type": "code",
   "execution_count": 110,
   "id": "72dd8199",
   "metadata": {},
   "outputs": [],
   "source": [
    "import datapackage\n",
    "\n",
    "epl = ('https://datahub.io/sports-data/english-premier-league/datapackage.json')\n",
    "sll = ('https://datahub.io/sports-data/spanish-la-liga/datapackage.json')\n",
    "isa = ('https://datahub.io/sports-data/italian-serie-a/datapackage.json')\n",
    "gb = ('https://datahub.io/sports-data/german-bundesliga/datapackage.json')\n",
    "fl = ('https://datahub.io/sports-data/french-ligue-1/datapackage.json')\n",
    "\n",
    "\n",
    "# print list of all resources:\n",
    "package_epl = datapackage.Package(epl)\n",
    "package_sll = datapackage.Package(sll)\n",
    "package_isa = datapackage.Package(isa)\n",
    "package_gb = datapackage.Package(gb)\n",
    "package_fl = datapackage.Package(fl)\n",
    "\n",
    "years=['1213', '1314', '1415', '1516', '1617', '1718', '1819']\n",
    "\n",
    "packages =['package_epl', 'package_sll', 'package_isa', 'package_gb', 'package_fl']\n",
    "\n",
    "all_resources = [package_epl, package_sll, \n",
    "                 package_isa, package_gb, package_fl]\n",
    "package_holder = {k:v for k,v in zip(packages, [0 for i in range(0,len(years))])}\n",
    "curr_package = 0\n",
    "\n",
    "for packs in all_resources:\n",
    "    curr_year = 7\n",
    "    holder = {k:v for k,v in zip(years, [0 for i in range(0,len(years))])}\n",
    "    for resource in packs.resources[0:8]:\n",
    "        if resource.tabular:\n",
    "            data = pd.read_csv(resource.descriptor['path'])\n",
    "            if 'Referee' in data.columns:\n",
    "                data = data.loc[:, data.columns!='Referee']\n",
    "            holder[years[curr_year]] = data\n",
    "        curr_year = curr_year - 1\n",
    "    package_holder[packages[curr_package]] = holder\n",
    "    curr_package = curr_package + 1\n",
    "    \n"
   ]
  },
  {
   "cell_type": "code",
   "execution_count": 105,
   "id": "209b65b8",
   "metadata": {},
   "outputs": [
    {
     "name": "stdout",
     "output_type": "stream",
     "text": [
      "10/08/2018\n",
      "11/08/17\n",
      "13/08/16\n",
      "08/08/15\n",
      "16/08/14\n",
      "17/08/13\n",
      "18/08/12\n"
     ]
    }
   ],
   "source": [
    "import datapackage\n",
    "\n",
    "epl = ('https://datahub.io/sports-data/english-premier-league/datapackage.json')\n",
    "sll = ('https://datahub.io/sports-data/spanish-la-liga/datapackage.json')\n",
    "isa = ('https://datahub.io/sports-data/italian-serie-a/datapackage.json')\n",
    "gb = ('https://datahub.io/sports-data/german-bundesliga/datapackage.json')\n",
    "fl = ('https://datahub.io/sports-data/french-ligue-1/datapackage.json')\n",
    "\n",
    "\n",
    "\n",
    "# print list of all resources:\n",
    "package_epl = datapackage.Package(epl)\n",
    "\n",
    "# print processed tabular data (if exists any)\n",
    "holder = {k:v for k,v in zip(years, [0 for i in range(0,len(years))])}\n",
    "resources = package_epl.resources\n",
    "curr_year = 7\n",
    "for \n",
    "for resource in resources[0:8]:\n",
    "    if resource.tabular:\n",
    "        data = pd.read_csv(resource.descriptor['path'])\n",
    "        year[curr_year] = data\n",
    "    curr_year = curr_year - 1"
   ]
  },
  {
   "cell_type": "code",
   "execution_count": 124,
   "id": "da718406",
   "metadata": {},
   "outputs": [
    {
     "data": {
      "text/plain": [
       "True"
      ]
     },
     "execution_count": 124,
     "metadata": {},
     "output_type": "execute_result"
    }
   ],
   "source": [
    "(\"Referee\") in pd5.columns"
   ]
  },
  {
   "cell_type": "code",
   "execution_count": 122,
   "id": "60b46dcf",
   "metadata": {},
   "outputs": [],
   "source": [
    "pd5 =  pd.read_csv(path+filename+'\\\\'+allFiles[4])"
   ]
  },
  {
   "cell_type": "code",
   "execution_count": null,
   "id": "f9a6ea0d",
   "metadata": {},
   "outputs": [],
   "source": [
    "package_holder['package_epl']"
   ]
  },
  {
   "cell_type": "code",
   "execution_count": null,
   "id": "6be21d69",
   "metadata": {},
   "outputs": [],
   "source": [
    "pd5 = pd5.loc[:, pd5.columns!='Referee']\n",
    "pd1 = pd1.append(pd2)\n",
    "pd1 = pd1.append(pd3)\n",
    "pd1 = pd1.append(pd4)"
   ]
  },
  {
   "cell_type": "code",
   "execution_count": 1,
   "id": "e44308f7-2249-41e7-b256-4c1c8a763cda",
   "metadata": {},
   "outputs": [],
   "source": [
    "right_features_Ad = 'C:\\\\Users\\\\Kiavosh\\\\Desktop\\\\School\\\\4641\\\\Final Project\\\\merged_All(fixed).csv'"
   ]
  },
  {
   "cell_type": "code",
   "execution_count": 6,
   "id": "bc51b998-06c4-4861-b7c9-6e3f99169fd4",
   "metadata": {},
   "outputs": [
    {
     "data": {
      "text/plain": [
       "['Unnamed: 0',\n",
       " 'Div',\n",
       " 'Date',\n",
       " 'HomeTeam',\n",
       " 'AwayTeam',\n",
       " 'FTHG',\n",
       " 'FTAG',\n",
       " 'FTR',\n",
       " 'HTHG',\n",
       " 'HTAG',\n",
       " 'HTR',\n",
       " 'HS',\n",
       " 'AS',\n",
       " 'HST',\n",
       " 'AST',\n",
       " 'HF',\n",
       " 'AF',\n",
       " 'HC',\n",
       " 'AC',\n",
       " 'HY',\n",
       " 'AY',\n",
       " 'HR',\n",
       " 'AR']"
      ]
     },
     "execution_count": 6,
     "metadata": {},
     "output_type": "execute_result"
    }
   ],
   "source": [
    "import pandas as pd\n",
    "pd.read_csv(right_features_Ad).columns.tolist()"
   ]
  },
  {
   "cell_type": "code",
   "execution_count": 39,
   "id": "e3f30692-2072-409c-8ca9-a643e338329d",
   "metadata": {},
   "outputs": [
    {
     "data": {
      "text/plain": [
       "['1213', '1314', '1415', '1516', '1617', '1718']"
      ]
     },
     "execution_count": 39,
     "metadata": {},
     "output_type": "execute_result"
    }
   ],
   "source": [
    "os.listdir(path)[1:7]"
   ]
  },
  {
   "cell_type": "markdown",
   "id": "822f28c4-036e-45ec-a30e-135e88a59d7d",
   "metadata": {},
   "source": [
    "# Fresh Start"
   ]
  },
  {
   "cell_type": "markdown",
   "id": "666a691e-fa62-4676-b9d0-acf840a81e61",
   "metadata": {},
   "source": [
    "<hr>"
   ]
  },
  {
   "cell_type": "code",
   "execution_count": 41,
   "id": "f5bf299b-01a9-4611-9988-c4d5da7fb7f9",
   "metadata": {},
   "outputs": [
    {
     "name": "stderr",
     "output_type": "stream",
     "text": [
      "C:\\Users\\Kiavosh\\AppData\\Local\\Temp/ipykernel_5744/3028799372.py:91: FutureWarning: In a future version of pandas all arguments of DataFrame.drop except for the argument 'labels' will be keyword-only\n",
      "  df.drop(df.columns.difference(kept_csv), 1, inplace=True)\n"
     ]
    }
   ],
   "source": [
    "import os\n",
    "import pandas as pd\n",
    "path = 'C:\\\\Users\\\\Kiavosh\\\\Desktop\\\\School\\\\4641\\\\Final Project\\\\'\n",
    "\n",
    "merged_orig = add_data(path + '1213\\\\merged.csv')\n",
    "merged_orig = merged_orig.loc[:, merged_orig.columns!='Unnamed: 0']\n",
    "\n",
    "for filename in os.listdir(path)[1:7]:\n",
    "    allFiles = os.listdir(path + filename)\n",
    "    pd1 =  add_data(path+filename+'\\\\'+'merged.csv')\n",
    "    pd1 = pd1.loc[:, pd1.columns!='Unnamed: 0']\n",
    "    merged_orig = merged_orig.append(pd1)\n",
    "\n",
    "merged_orig.to_csv(path+'merged_all_new_12TO18.csv')"
   ]
  },
  {
   "cell_type": "code",
   "execution_count": 37,
   "id": "4f53b270-0107-4972-b5b9-ec971fd47f5b",
   "metadata": {},
   "outputs": [],
   "source": [
    "import csv\n",
    "import pandas as pd\n",
    "\n",
    "def add_data(filename:str):\n",
    "\n",
    "    df = pd.read_csv(filename)\n",
    "    df[\"HomeWinRate\"] = float(\"nan\")\n",
    "    df[\"AwayWinRate\"] = float(\"nan\")\n",
    "    df[\"isWin\"] = float(\"nan\")\n",
    "\n",
    "    all_teams_list = []\n",
    "    file = open(filename)\n",
    "    csvreader = csv.DictReader(file)\n",
    "    for row in csvreader:\n",
    "        all_teams_list.append(row['HomeTeam'])\n",
    "        all_teams_list.append(row['AwayTeam'])\n",
    "\n",
    "    all_teams_list = list(set(all_teams_list))\n",
    "    all_teams_list.sort()\n",
    "\n",
    "    labels = [\n",
    "        (\"FTHG\", \"FTAG\"),\n",
    "        (\"HTHG\", \"HTAG\"),\n",
    "        (\"HS\", \"AS\"),\n",
    "        (\"HST\", \"AST\"),\n",
    "        (\"HF\", \"AF\"),\n",
    "        (\"HC\", \"AC\"),\n",
    "        (\"HY\", \"AY\"),\n",
    "        (\"HR\", \"AR\"),\n",
    "    ]\n",
    "\n",
    "    for team in all_teams_list:\n",
    "        a = df[(df['HomeTeam'] == team) | (df['AwayTeam'] == team)]\n",
    "        count = 0\n",
    "        perf = {\n",
    "            \"Wins\": 0,\n",
    "            \"FTHG\": 0,\n",
    "            \"HTHG\": 0,\n",
    "            \"HS\": 0,\n",
    "            \"HST\": 0,\n",
    "            \"HF\": 0,\n",
    "            \"HC\": 0,\n",
    "            \"HY\": 0,\n",
    "            \"HR\": 0,\n",
    "        }\n",
    "        # print(\"team: \" + str(team))\n",
    "        for i, row in a.iterrows():\n",
    "            if row['HomeTeam'] == team:\n",
    "                for l in labels:\n",
    "                    df.loc[i,l[0]] = (float(\"nan\") if count == 0 else perf[l[0]] / count)\n",
    "                    perf[l[0]] += row[l[0]]\n",
    "                df.loc[i,\"HomeWinRate\"] = (float(\"nan\") if count == 0 else perf[\"Wins\"] / count)\n",
    "                if row[\"FTR\"] == \"H\":\n",
    "                    perf[\"Wins\"] += 1\n",
    "                    df.loc[i,\"isWin\"] = 1\n",
    "                else:\n",
    "                    df.loc[i,\"isWin\"] = 0\n",
    "            elif row[\"AwayTeam\"] == team:\n",
    "                for l in labels:\n",
    "                    df.loc[i,l[1]] =  (float(\"nan\") if count == 0 else perf[l[0]] / count)\n",
    "                    perf[l[0]] += row[l[1]]\n",
    "                df.loc[i,\"AwayWinRate\"] = (float(\"nan\") if count == 0 else perf[\"Wins\"] / count)\n",
    "                if row[\"FTR\"] == \"A\":\n",
    "                    perf[\"Wins\"] += 1\n",
    "            else:\n",
    "                raise Exception(\"away team or home team not found\")\n",
    "            count += 1\n",
    "    #remove rows where average is NAN (we dont have historical data yet)\n",
    "    df = df[df['FTHG'].notna() & df['FTAG'].notna()]\n",
    "\n",
    "\n",
    "\n",
    "    return remove_cols(df)\n",
    "    \n",
    "\n",
    "def remove_cols(df):\n",
    "    labels = [\n",
    "        (\"FTHG\", \"FTAG\"),\n",
    "        (\"HTHG\", \"HTAG\"),\n",
    "        (\"HS\", \"AS\"),\n",
    "        (\"HST\", \"AST\"),\n",
    "        (\"HF\", \"AF\"),\n",
    "        (\"HC\", \"AC\"),\n",
    "        (\"HY\", \"AY\"),\n",
    "        (\"HR\", \"AR\"),\n",
    "    ]\n",
    "    columns = [\"Date\", \"HomeTeam\", \"AwayTeam\", \"AwayWinRate\", \"HomeWinRate\", \"FTR\", \"isWin\"]\n",
    "    h = [x[0] for x in labels]\n",
    "    a = [x[1] for x in labels]\n",
    "    kept_csv = h + a + columns\n",
    "    df.drop(df.columns.difference(kept_csv), 1, inplace=True)\n",
    "    return df\n",
    "\n"
   ]
  },
  {
   "cell_type": "code",
   "execution_count": 116,
   "id": "7c807c50-95f0-41bb-a062-92cccaac2442",
   "metadata": {},
   "outputs": [],
   "source": [
    "import os\n",
    "import numpy as np\n",
    "import pandas as pd\n",
    "from matplotlib import pyplot as plt\n",
    "from sklearn.cluster import KMeans\n",
    "from sklearn.preprocessing import StandardScaler\n",
    "from sklearn.decomposition import PCA\n",
    "from sklearn.linear_model import LogisticRegression"
   ]
  },
  {
   "cell_type": "code",
   "execution_count": 95,
   "id": "ba6ba021-19a7-43aa-b205-d6d03cd4623b",
   "metadata": {},
   "outputs": [
    {
     "name": "stderr",
     "output_type": "stream",
     "text": [
      "C:\\Users\\Kiavosh\\AppData\\Local\\Temp/ipykernel_5744/2474469368.py:4: FutureWarning: In a future version of pandas all arguments of DataFrame.drop except for the argument 'labels' will be keyword-only\n",
      "  merged_12TO18.drop(['Unnamed: 0', 'Date', 'HomeTeam', 'AwayTeam','FTR'],1)\n"
     ]
    }
   ],
   "source": [
    "path_Ad = 'C:\\\\Users\\\\Kiavosh\\\\Desktop\\\\School\\\\4641\\\\Final Project\\\\merged_all_new_12TO18.csv'\n",
    "merged_12TO18 =  pd.read_csv(path_Ad)\n",
    "merged_12TO18.columns[0:4].tolist()\n",
    "merged_12TO18.drop(['Unnamed: 0', 'Date', 'HomeTeam', 'AwayTeam','FTR'],1)\n",
    "merged_12TO18 = merged_12TO18.reset_index()"
   ]
  },
  {
   "cell_type": "code",
   "execution_count": 111,
   "id": "77d5b283-4fee-43b9-b1ad-4d916e860cb2",
   "metadata": {},
   "outputs": [
    {
     "name": "stderr",
     "output_type": "stream",
     "text": [
      "C:\\Users\\Kiavosh\\AppData\\Local\\Temp/ipykernel_5744/3802780726.py:1: FutureWarning: In a future version of pandas all arguments of DataFrame.drop except for the argument 'labels' will be keyword-only\n",
      "  df = merged_12TO18.drop(['Unnamed: 0', 'Date', 'HomeTeam', 'AwayTeam', 'FTR'],1).reset_index()\n"
     ]
    }
   ],
   "source": [
    "path_Ad = 'C:\\\\Users\\\\Kiavosh\\\\Desktop\\\\School\\\\4641\\\\Final Project\\\\merged_all_new_12TO18.csv'\n",
    "merged_12TO18 =  pd.read_csv(path_Ad)\n",
    "merged_12TO18.columns[0:4].tolist()\n",
    "merged_12TO18.drop(['Unnamed: 0', 'Date', 'HomeTeam', 'AwayTeam','FTR'],1)\n",
    "merged_12TO18 = merged_12TO18.reset_index()\n",
    "df = merged_12TO18.drop(['Unnamed: 0', 'Date', 'HomeTeam', 'AwayTeam', 'FTR'],1).reset_index()\n",
    "for i in df.columns.tolist():\n",
    "    df[i].replace('', np.nan, inplace=True)\n",
    "    df.dropna(subset=[i], inplace=True)\n",
    "X = df.to_numpy()\n",
    "X = StandardScaler().fit_transform(X)\n",
    "pca = PCA(n_components=2)\n",
    "X = pca.fit_transform(X)"
   ]
  },
  {
   "cell_type": "code",
   "execution_count": 117,
   "id": "19625df2-73c4-4a9e-af94-45066b3705a7",
   "metadata": {},
   "outputs": [
    {
     "data": {
      "image/png": "[encoded data removed]",
      "text/plain": [
       "<Figure size 432x288 with 1 Axes>"
      ]
     },
     "metadata": {
      "needs_background": "light"
     },
     "output_type": "display_data"
    }
   ],
   "source": [
    "#--------------- Elbow to find see the best number of cluster\n",
    "wcss = []\n",
    "for i in range(1, 11):\n",
    "    kmeans = KMeans(n_clusters=i, init='k-means++', max_iter=300, n_init=10, random_state=0)\n",
    "    kmeans.fit(X)\n",
    "    wcss.append(kmeans.inertia_)\n",
    "plt.plot(range(1, 11), wcss)\n",
    "plt.title('Elbow Method')\n",
    "plt.xlabel('Number of clusters')\n",
    "plt.ylabel('WCSS')\n",
    "plt.show() \n"
   ]
  },
  {
   "cell_type": "code",
   "execution_count": 119,
   "id": "7bdca6e5-be01-4ff8-8be5-9914aaed6b03",
   "metadata": {},
   "outputs": [
    {
     "data": {
      "image/png": "[encoded data removed]",
      "text/plain": [
       "<Figure size 432x288 with 1 Axes>"
      ]
     },
     "metadata": {
      "needs_background": "light"
     },
     "output_type": "display_data"
    }
   ],
   "source": [
    "n_cluster = 3\n",
    "#--------------- Selecting the best n as our n_cluster\n",
    "kmeans = KMeans(n_cluster, init='k-means++', max_iter=300, n_init=300, random_state=0)\n",
    "pred_y = kmeans.fit_predict(X)\n",
    "\n",
    "#--------------- Viz our clusters\n",
    "plt.scatter(X[:,0], X[:,1])\n",
    "plt.scatter(kmeans.cluster_centers_[:, 0], kmeans.cluster_centers_[:, 1], s=300, c='red')\n",
    "plt.show()\n",
    "\n",
    "cluster_map['data_index'] = df.index.values\n",
    "cluster_map['cluster'] = kmeans.labels_"
   ]
  },
  {
   "cell_type": "code",
   "execution_count": 125,
   "id": "d069c28e-21a8-448e-b4c6-21e5d2d0c086",
   "metadata": {},
   "outputs": [
    {
     "data": {
      "text/plain": [
       "19"
      ]
     },
     "execution_count": 125,
     "metadata": {},
     "output_type": "execute_result"
    }
   ],
   "source": [
    "len(df.columns.tolist()[2:])"
   ]
  },
  {
   "cell_type": "code",
   "execution_count": 127,
   "id": "3a321a00-b6c1-4961-b463-5d3970ca108e",
   "metadata": {},
   "outputs": [
    {
     "ename": "ValueError",
     "evalue": "Unknown label type: 'continuous'",
     "output_type": "error",
     "traceback": [
      "\u001b[1;31m---------------------------------------------------------------------------\u001b[0m",
      "\u001b[1;31mValueError\u001b[0m                                Traceback (most recent call last)",
      "\u001b[1;32m~\\AppData\\Local\\Temp/ipykernel_5744/920086521.py\u001b[0m in \u001b[0;36m<module>\u001b[1;34m\u001b[0m\n\u001b[0;32m      5\u001b[0m \u001b[1;33m\u001b[0m\u001b[0m\n\u001b[0;32m      6\u001b[0m \u001b[0mmodel\u001b[0m \u001b[1;33m=\u001b[0m \u001b[0mExtraTreesClassifier\u001b[0m\u001b[1;33m(\u001b[0m\u001b[1;33m)\u001b[0m\u001b[1;33m\u001b[0m\u001b[1;33m\u001b[0m\u001b[0m\n\u001b[1;32m----> 7\u001b[1;33m \u001b[0mmodel\u001b[0m\u001b[1;33m.\u001b[0m\u001b[0mfit\u001b[0m\u001b[1;33m(\u001b[0m\u001b[0mX\u001b[0m\u001b[1;33m,\u001b[0m \u001b[0mY\u001b[0m\u001b[1;33m)\u001b[0m\u001b[1;33m\u001b[0m\u001b[1;33m\u001b[0m\u001b[0m\n\u001b[0m\u001b[0;32m      8\u001b[0m \u001b[0mprint\u001b[0m\u001b[1;33m(\u001b[0m\u001b[0mmodel\u001b[0m\u001b[1;33m.\u001b[0m\u001b[0mfeature_importances_\u001b[0m\u001b[1;33m)\u001b[0m\u001b[1;33m\u001b[0m\u001b[1;33m\u001b[0m\u001b[0m\n\u001b[0;32m      9\u001b[0m \u001b[0mmax\u001b[0m\u001b[1;33m(\u001b[0m\u001b[0mmodel\u001b[0m\u001b[1;33m.\u001b[0m\u001b[0mfeature_importances_\u001b[0m\u001b[1;33m)\u001b[0m\u001b[1;33m\u001b[0m\u001b[1;33m\u001b[0m\u001b[0m\n",
      "\u001b[1;32m~\\anaconda3\\lib\\site-packages\\sklearn\\ensemble\\_forest.py\u001b[0m in \u001b[0;36mfit\u001b[1;34m(self, X, y, sample_weight)\u001b[0m\n\u001b[0;32m    329\u001b[0m         \u001b[0mself\u001b[0m\u001b[1;33m.\u001b[0m\u001b[0mn_outputs_\u001b[0m \u001b[1;33m=\u001b[0m \u001b[0my\u001b[0m\u001b[1;33m.\u001b[0m\u001b[0mshape\u001b[0m\u001b[1;33m[\u001b[0m\u001b[1;36m1\u001b[0m\u001b[1;33m]\u001b[0m\u001b[1;33m\u001b[0m\u001b[1;33m\u001b[0m\u001b[0m\n\u001b[0;32m    330\u001b[0m \u001b[1;33m\u001b[0m\u001b[0m\n\u001b[1;32m--> 331\u001b[1;33m         \u001b[0my\u001b[0m\u001b[1;33m,\u001b[0m \u001b[0mexpanded_class_weight\u001b[0m \u001b[1;33m=\u001b[0m \u001b[0mself\u001b[0m\u001b[1;33m.\u001b[0m\u001b[0m_validate_y_class_weight\u001b[0m\u001b[1;33m(\u001b[0m\u001b[0my\u001b[0m\u001b[1;33m)\u001b[0m\u001b[1;33m\u001b[0m\u001b[1;33m\u001b[0m\u001b[0m\n\u001b[0m\u001b[0;32m    332\u001b[0m \u001b[1;33m\u001b[0m\u001b[0m\n\u001b[0;32m    333\u001b[0m         \u001b[1;32mif\u001b[0m \u001b[0mgetattr\u001b[0m\u001b[1;33m(\u001b[0m\u001b[0my\u001b[0m\u001b[1;33m,\u001b[0m \u001b[1;34m\"dtype\"\u001b[0m\u001b[1;33m,\u001b[0m \u001b[1;32mNone\u001b[0m\u001b[1;33m)\u001b[0m \u001b[1;33m!=\u001b[0m \u001b[0mDOUBLE\u001b[0m \u001b[1;32mor\u001b[0m \u001b[1;32mnot\u001b[0m \u001b[0my\u001b[0m\u001b[1;33m.\u001b[0m\u001b[0mflags\u001b[0m\u001b[1;33m.\u001b[0m\u001b[0mcontiguous\u001b[0m\u001b[1;33m:\u001b[0m\u001b[1;33m\u001b[0m\u001b[1;33m\u001b[0m\u001b[0m\n",
      "\u001b[1;32m~\\anaconda3\\lib\\site-packages\\sklearn\\ensemble\\_forest.py\u001b[0m in \u001b[0;36m_validate_y_class_weight\u001b[1;34m(self, y)\u001b[0m\n\u001b[0;32m    557\u001b[0m \u001b[1;33m\u001b[0m\u001b[0m\n\u001b[0;32m    558\u001b[0m     \u001b[1;32mdef\u001b[0m \u001b[0m_validate_y_class_weight\u001b[0m\u001b[1;33m(\u001b[0m\u001b[0mself\u001b[0m\u001b[1;33m,\u001b[0m \u001b[0my\u001b[0m\u001b[1;33m)\u001b[0m\u001b[1;33m:\u001b[0m\u001b[1;33m\u001b[0m\u001b[1;33m\u001b[0m\u001b[0m\n\u001b[1;32m--> 559\u001b[1;33m         \u001b[0mcheck_classification_targets\u001b[0m\u001b[1;33m(\u001b[0m\u001b[0my\u001b[0m\u001b[1;33m)\u001b[0m\u001b[1;33m\u001b[0m\u001b[1;33m\u001b[0m\u001b[0m\n\u001b[0m\u001b[0;32m    560\u001b[0m \u001b[1;33m\u001b[0m\u001b[0m\n\u001b[0;32m    561\u001b[0m         \u001b[0my\u001b[0m \u001b[1;33m=\u001b[0m \u001b[0mnp\u001b[0m\u001b[1;33m.\u001b[0m\u001b[0mcopy\u001b[0m\u001b[1;33m(\u001b[0m\u001b[0my\u001b[0m\u001b[1;33m)\u001b[0m\u001b[1;33m\u001b[0m\u001b[1;33m\u001b[0m\u001b[0m\n",
      "\u001b[1;32m~\\anaconda3\\lib\\site-packages\\sklearn\\utils\\multiclass.py\u001b[0m in \u001b[0;36mcheck_classification_targets\u001b[1;34m(y)\u001b[0m\n\u001b[0;32m    181\u001b[0m     if y_type not in ['binary', 'multiclass', 'multiclass-multioutput',\n\u001b[0;32m    182\u001b[0m                       'multilabel-indicator', 'multilabel-sequences']:\n\u001b[1;32m--> 183\u001b[1;33m         \u001b[1;32mraise\u001b[0m \u001b[0mValueError\u001b[0m\u001b[1;33m(\u001b[0m\u001b[1;34m\"Unknown label type: %r\"\u001b[0m \u001b[1;33m%\u001b[0m \u001b[0my_type\u001b[0m\u001b[1;33m)\u001b[0m\u001b[1;33m\u001b[0m\u001b[1;33m\u001b[0m\u001b[0m\n\u001b[0m\u001b[0;32m    184\u001b[0m \u001b[1;33m\u001b[0m\u001b[0m\n\u001b[0;32m    185\u001b[0m \u001b[1;33m\u001b[0m\u001b[0m\n",
      "\u001b[1;31mValueError\u001b[0m: Unknown label type: 'continuous'"
     ]
    }
   ],
   "source": [
    "from pandas import read_csv\n",
    "from sklearn.ensemble import ExtraTreesClassifier\n",
    "X = df.values[:, 2:19]\n",
    "Y = df.values[:, 19]\n",
    "\n",
    "model = ExtraTreesClassifier()\n",
    "model.fit(X, Y)\n",
    "print(model.feature_importances_)\n",
    "max(model.feature_importances_)"
   ]
  },
  {
   "cell_type": "code",
   "execution_count": null,
   "id": "16003561-0ac7-4b1f-a432-90b987e82bc5",
   "metadata": {},
   "outputs": [],
   "source": []
  }
 ],
 "metadata": {
  "kernelspec": {
   "display_name": "Python 3 (ipykernel)",
   "language": "python",
   "name": "python3"
  },
  "language_info": {
   "codemirror_mode": {
    "name": "ipython",
    "version": 3
   },
   "file_extension": ".py",
   "mimetype": "text/x-python",
   "name": "python",
   "nbconvert_exporter": "python",
   "pygments_lexer": "ipython3",
   "version": "3.9.7"
  }
 },
 "nbformat": 4,
 "nbformat_minor": 5
}
