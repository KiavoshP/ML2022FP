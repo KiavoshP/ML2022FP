{
 "cells": [
  {
   "cell_type": "code",
   "execution_count": 3,
   "id": "afe8c061",
   "metadata": {},
   "outputs": [],
   "source": [
    "import numpy as np\n",
    "import pandas as pd\n",
    "from matplotlib import pyplot as plt\n",
    "from sklearn.cluster import KMeans"
   ]
  },
  {
   "cell_type": "code",
   "execution_count": null,
   "id": "bbcdf9b7",
   "metadata": {},
   "outputs": [],
   "source": [
    "\n",
    "wcss = []\n",
    "for i in range(1, 11):\n",
    "    kmeans = KMeans(n_clusters=i, init='k-means++', max_iter=300, n_init=10, random_state=0)\n",
    "    kmeans.fit(X)\n",
    "    wcss.append(kmeans.inertia_)\n",
    "plt.plot(range(1, 11), wcss)\n",
    "plt.title('Elbow Method')\n",
    "plt.xlabel('Number of clusters')\n",
    "plt.ylabel('WCSS')\n",
    "plt.show() "
   ]
  },
  {
   "cell_type": "code",
   "execution_count": 7,
   "id": "8a571318",
   "metadata": {},
   "outputs": [],
   "source": [
    "data = pd.read_csv(\"merged_All.csv\")"
   ]
  },
  {
   "cell_type": "code",
   "execution_count": 9,
   "id": "0f0e1290",
   "metadata": {},
   "outputs": [
    {
     "data": {
      "text/plain": [
       "0              Dortmund\n",
       "1              Augsburg\n",
       "2         Ein Frankfurt\n",
       "3              Freiburg\n",
       "4        Greuther Furth\n",
       "              ...      \n",
       "15669         Liverpool\n",
       "15670        Man United\n",
       "15671       Southampton\n",
       "15672         Tottenham\n",
       "15673           Watford\n",
       "Name: HomeTeam, Length: 15674, dtype: object"
      ]
     },
     "execution_count": 9,
     "metadata": {},
     "output_type": "execute_result"
    }
   ],
   "source": [
    "Set(data[\"HomeTeam\"])"
   ]
  },
  {
   "cell_type": "code",
   "execution_count": null,
   "id": "ce641965",
   "metadata": {},
   "outputs": [],
   "source": []
  }
 ],
 "metadata": {
  "kernelspec": {
   "display_name": "Python 3 (ipykernel)",
   "language": "python",
   "name": "python3"
  },
  "language_info": {
   "codemirror_mode": {
    "name": "ipython",
    "version": 3
   },
   "file_extension": ".py",
   "mimetype": "text/x-python",
   "name": "python",
   "nbconvert_exporter": "python",
   "pygments_lexer": "ipython3",
   "version": "3.9.7"
  }
 },
 "nbformat": 4,
 "nbformat_minor": 5
}
