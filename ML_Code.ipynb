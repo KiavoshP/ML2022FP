{
 "cells": [
  {
   "cell_type": "markdown",
   "id": "822f28c4-036e-45ec-a30e-135e88a59d7d",
   "metadata": {},
   "source": [
    "<h1 style = 'color:red'>Prerequisites</hr>"
   ]
  },
  {
   "cell_type": "code",
   "execution_count": 2,
   "id": "4f53b270-0107-4972-b5b9-ec971fd47f5b",
   "metadata": {},
   "outputs": [],
   "source": [
    "import csv\n",
    "import pandas as pd\n",
    "import os\n",
    "import shutil\n",
    "import numpy as np\n",
    "from matplotlib import pyplot as plt\n",
    "from sklearn.cluster import KMeans\n",
    "from sklearn.preprocessing import StandardScaler\n",
    "from sklearn.decomposition import PCA\n",
    "from sklearn.linear_model import LogisticRegression\n",
    "\n",
    "def add_data(filename:str):\n",
    "\n",
    "    df = pd.read_csv(filename)\n",
    "    df[\"HomeWinRate\"] = float(\"nan\")\n",
    "    df[\"AwayWinRate\"] = float(\"nan\")\n",
    "    df[\"isWin\"] = float(\"nan\")\n",
    "\n",
    "    all_teams_list = []\n",
    "    file = open(filename)\n",
    "    csvreader = csv.DictReader(file)\n",
    "    for row in csvreader:\n",
    "        all_teams_list.append(row['HomeTeam'])\n",
    "        all_teams_list.append(row['AwayTeam'])\n",
    "\n",
    "    all_teams_list = list(set(all_teams_list))\n",
    "    all_teams_list.sort()\n",
    "\n",
    "    labels = [\n",
    "        (\"FTHG\", \"FTAG\"),\n",
    "        (\"HTHG\", \"HTAG\"),\n",
    "        (\"HS\", \"AS\"),\n",
    "        (\"HST\", \"AST\"),\n",
    "        (\"HF\", \"AF\"),\n",
    "        (\"HC\", \"AC\"),\n",
    "        (\"HY\", \"AY\"),\n",
    "        (\"HR\", \"AR\"),\n",
    "    ]\n",
    "\n",
    "    for team in all_teams_list:\n",
    "        a = df[(df['HomeTeam'] == team) | (df['AwayTeam'] == team)]\n",
    "        count = 0\n",
    "        perf = {\n",
    "            \"Wins\": 0,\n",
    "            \"FTHG\": 0,\n",
    "            \"HTHG\": 0,\n",
    "            \"HS\": 0,\n",
    "            \"HST\": 0,\n",
    "            \"HF\": 0,\n",
    "            \"HC\": 0,\n",
    "            \"HY\": 0,\n",
    "            \"HR\": 0,\n",
    "        }\n",
    "        # print(\"team: \" + str(team))\n",
    "        for i, row in a.iterrows():\n",
    "            if row['HomeTeam'] == team:\n",
    "                for l in labels:\n",
    "                    df.loc[i,l[0]] = (float(\"nan\") if count == 0 else perf[l[0]] / count)\n",
    "                    perf[l[0]] += row[l[0]]\n",
    "                df.loc[i,\"HomeWinRate\"] = (float(\"nan\") if count == 0 else perf[\"Wins\"] / count)\n",
    "                if row[\"FTR\"] == \"H\":\n",
    "                    perf[\"Wins\"] += 1\n",
    "                    df.loc[i,\"isWin\"] = 1\n",
    "                else:\n",
    "                    df.loc[i,\"isWin\"] = 0\n",
    "            elif row[\"AwayTeam\"] == team:\n",
    "                for l in labels:\n",
    "                    df.loc[i,l[1]] =  (float(\"nan\") if count == 0 else perf[l[0]] / count)\n",
    "                    perf[l[0]] += row[l[1]]\n",
    "                df.loc[i,\"AwayWinRate\"] = (float(\"nan\") if count == 0 else perf[\"Wins\"] / count)\n",
    "                if row[\"FTR\"] == \"A\":\n",
    "                    perf[\"Wins\"] += 1\n",
    "            else:\n",
    "                raise Exception(\"away team or home team not found\")\n",
    "            count += 1\n",
    "    #remove rows where average is NAN (we dont have historical data yet)\n",
    "    df = df[df['FTHG'].notna() & df['FTAG'].notna()]\n",
    "\n",
    "\n",
    "\n",
    "    return remove_cols(df)\n",
    "    \n",
    "\n",
    "def remove_cols(df):\n",
    "    labels = [\n",
    "        (\"FTHG\", \"FTAG\"),\n",
    "        (\"HTHG\", \"HTAG\"),\n",
    "        (\"HS\", \"AS\"),\n",
    "        (\"HST\", \"AST\"),\n",
    "        (\"HF\", \"AF\"),\n",
    "        (\"HC\", \"AC\"),\n",
    "        (\"HY\", \"AY\"),\n",
    "        (\"HR\", \"AR\"),\n",
    "    ]\n",
    "    columns = [\"Date\", \"HomeTeam\", \"AwayTeam\", \"AwayWinRate\", \"HomeWinRate\", \"FTR\", \"isWin\"]\n",
    "    h = [x[0] for x in labels]\n",
    "    a = [x[1] for x in labels]\n",
    "    kept_csv = h + a + columns\n",
    "    df.drop(df.columns.difference(kept_csv), 1, inplace=True)\n",
    "    return df\n",
    "\n",
    "def automated_preprocessing(addr):\n",
    "    data_dir = addr\n",
    "    #list of training and test set\n",
    "    training_set = ['1213','1314', '1415', '1516', '1617', '1718']\n",
    "    test_set = ['1819']\n",
    "\n",
    "    #Taking care of the first season to initialize the base DF\n",
    "    merged_orig = add_data(data_dir + training_set[0] +'\\\\merged.csv')\n",
    "    merged_orig = merged_orig.loc[:, merged_orig.columns!='Unnamed: 0']\n",
    "\n",
    "\n",
    "    for filename in training_set[1:]:\n",
    "        pd1 =  add_data(data_dir+filename+'\\\\'+'merged.csv')\n",
    "        pd1 = pd1.loc[:, pd1.columns!='Unnamed: 0']\n",
    "        merged_orig = merged_orig.append(pd1)\n",
    "        print('season ' +filename+' has been preprocessed and added to the base DF______')\n",
    "        \n",
    "    training_addr = data_dir+'Training_Testing\\\\training'+training_set[0]+'_TO_'+training_set[len(training_set) - 1]+'.csv'\n",
    "    merged_orig.to_csv(training_addr)\n",
    "    \n",
    "    testing_addr = data_dir+'Training_Testing\\\\testing_'+test_set[0]+'.csv'\n",
    "    testing_src = data_dir + test_set[0] +'\\\\'+'merged.csv'\n",
    "    pd1 =  add_data(testing_src)\n",
    "    pd1 = pd1.loc[:, pd1.columns!='Unnamed: 0']\n",
    "    pd1.to_csv(testing_addr)\n",
    "    print('testing ' +test_set[0]+' has been preprocessed and seperated______')\n",
    "    \n",
    "    \n",
    "    print('__________Removing NA__________')\n",
    "    testing_dest = data_dir +'\\\\'+'Training_Testing'+'\\\\testing_'+test_set[0]+'.csv'\n",
    "    training_ready_set, testing_ready_set = remove_NA([training_addr, testing_addr])\n",
    "    training_ready_set.to_csv(training_addr)\n",
    "    testing_ready_set.to_csv(testing_dest)\n",
    "    \n",
    "    return (training_ready_set, testing_ready_set)\n",
    "    \n",
    "def remove_NA(data_path):\n",
    "    holder = list()\n",
    "    for path in data_path:\n",
    "        data =  pd.read_csv(path)\n",
    "        data.columns[0:4].tolist()\n",
    "        data = data.drop(['Unnamed: 0', 'Date', 'HomeTeam', 'AwayTeam', 'FTR'],1).reset_index()\n",
    "        for i in data.columns.tolist():\n",
    "            data[i].replace('', np.nan, inplace=True)\n",
    "            data.dropna(subset=[i], inplace=True)\n",
    "        holder.append(data)\n",
    "        print(path + \" is cleaned\")\n",
    "    return holder[0], holder[1]"
   ]
  },
  {
   "cell_type": "markdown",
   "id": "6ac49dfb-1134-401d-80b7-5a1c76b98b5d",
   "metadata": {},
   "source": [
    "<h2 style = 'color: orange'>--PCA </h1>"
   ]
  },
  {
   "cell_type": "code",
   "execution_count": 3,
   "id": "f5bf299b-01a9-4611-9988-c4d5da7fb7f9",
   "metadata": {},
   "outputs": [
    {
     "name": "stderr",
     "output_type": "stream",
     "text": [
      "C:\\Users\\ccxbo\\AppData\\Local\\Temp\\ipykernel_3900\\115950156.py:99: FutureWarning: In a future version of pandas all arguments of DataFrame.drop except for the argument 'labels' will be keyword-only.\n",
      "  df.drop(df.columns.difference(kept_csv), 1, inplace=True)\n",
      "C:\\Users\\ccxbo\\AppData\\Local\\Temp\\ipykernel_3900\\115950156.py:99: FutureWarning: In a future version of pandas all arguments of DataFrame.drop except for the argument 'labels' will be keyword-only.\n",
      "  df.drop(df.columns.difference(kept_csv), 1, inplace=True)\n",
      "C:\\Users\\ccxbo\\AppData\\Local\\Temp\\ipykernel_3900\\115950156.py:116: FutureWarning: The frame.append method is deprecated and will be removed from pandas in a future version. Use pandas.concat instead.\n",
      "  merged_orig = merged_orig.append(pd1)\n"
     ]
    },
    {
     "name": "stdout",
     "output_type": "stream",
     "text": [
      "season 1314 has been preprocessed and added to the base DF______\n"
     ]
    },
    {
     "name": "stderr",
     "output_type": "stream",
     "text": [
      "C:\\Users\\ccxbo\\AppData\\Local\\Temp\\ipykernel_3900\\115950156.py:99: FutureWarning: In a future version of pandas all arguments of DataFrame.drop except for the argument 'labels' will be keyword-only.\n",
      "  df.drop(df.columns.difference(kept_csv), 1, inplace=True)\n",
      "C:\\Users\\ccxbo\\AppData\\Local\\Temp\\ipykernel_3900\\115950156.py:116: FutureWarning: The frame.append method is deprecated and will be removed from pandas in a future version. Use pandas.concat instead.\n",
      "  merged_orig = merged_orig.append(pd1)\n"
     ]
    },
    {
     "name": "stdout",
     "output_type": "stream",
     "text": [
      "season 1415 has been preprocessed and added to the base DF______\n"
     ]
    },
    {
     "name": "stderr",
     "output_type": "stream",
     "text": [
      "C:\\Users\\ccxbo\\AppData\\Local\\Temp\\ipykernel_3900\\115950156.py:99: FutureWarning: In a future version of pandas all arguments of DataFrame.drop except for the argument 'labels' will be keyword-only.\n",
      "  df.drop(df.columns.difference(kept_csv), 1, inplace=True)\n",
      "C:\\Users\\ccxbo\\AppData\\Local\\Temp\\ipykernel_3900\\115950156.py:116: FutureWarning: The frame.append method is deprecated and will be removed from pandas in a future version. Use pandas.concat instead.\n",
      "  merged_orig = merged_orig.append(pd1)\n"
     ]
    },
    {
     "name": "stdout",
     "output_type": "stream",
     "text": [
      "season 1516 has been preprocessed and added to the base DF______\n"
     ]
    },
    {
     "name": "stderr",
     "output_type": "stream",
     "text": [
      "C:\\Users\\ccxbo\\AppData\\Local\\Temp\\ipykernel_3900\\115950156.py:99: FutureWarning: In a future version of pandas all arguments of DataFrame.drop except for the argument 'labels' will be keyword-only.\n",
      "  df.drop(df.columns.difference(kept_csv), 1, inplace=True)\n",
      "C:\\Users\\ccxbo\\AppData\\Local\\Temp\\ipykernel_3900\\115950156.py:116: FutureWarning: The frame.append method is deprecated and will be removed from pandas in a future version. Use pandas.concat instead.\n",
      "  merged_orig = merged_orig.append(pd1)\n"
     ]
    },
    {
     "name": "stdout",
     "output_type": "stream",
     "text": [
      "season 1617 has been preprocessed and added to the base DF______\n"
     ]
    },
    {
     "name": "stderr",
     "output_type": "stream",
     "text": [
      "C:\\Users\\ccxbo\\AppData\\Local\\Temp\\ipykernel_3900\\115950156.py:99: FutureWarning: In a future version of pandas all arguments of DataFrame.drop except for the argument 'labels' will be keyword-only.\n",
      "  df.drop(df.columns.difference(kept_csv), 1, inplace=True)\n",
      "C:\\Users\\ccxbo\\AppData\\Local\\Temp\\ipykernel_3900\\115950156.py:116: FutureWarning: The frame.append method is deprecated and will be removed from pandas in a future version. Use pandas.concat instead.\n",
      "  merged_orig = merged_orig.append(pd1)\n"
     ]
    },
    {
     "name": "stdout",
     "output_type": "stream",
     "text": [
      "season 1718 has been preprocessed and added to the base DF______\n"
     ]
    },
    {
     "name": "stderr",
     "output_type": "stream",
     "text": [
      "C:\\Users\\ccxbo\\AppData\\Local\\Temp\\ipykernel_3900\\115950156.py:99: FutureWarning: In a future version of pandas all arguments of DataFrame.drop except for the argument 'labels' will be keyword-only.\n",
      "  df.drop(df.columns.difference(kept_csv), 1, inplace=True)\n"
     ]
    },
    {
     "name": "stdout",
     "output_type": "stream",
     "text": [
      "testing 1819 has been preprocessed and seperated______\n",
      "__________Removing NA__________\n"
     ]
    },
    {
     "name": "stderr",
     "output_type": "stream",
     "text": [
      "C:\\Users\\ccxbo\\AppData\\Local\\Temp\\ipykernel_3900\\115950156.py:143: FutureWarning: In a future version of pandas all arguments of DataFrame.drop except for the argument 'labels' will be keyword-only.\n",
      "  data = data.drop(['Unnamed: 0', 'Date', 'HomeTeam', 'AwayTeam', 'FTR'],1).reset_index()\n"
     ]
    },
    {
     "name": "stdout",
     "output_type": "stream",
     "text": [
      "Final Project\\Training_Testing\\training1213_TO_1718.csv is cleaned\n",
      "Final Project\\Training_Testing\\testing_1819.csv is cleaned\n"
     ]
    },
    {
     "name": "stderr",
     "output_type": "stream",
     "text": [
      "C:\\Users\\ccxbo\\AppData\\Local\\Temp\\ipykernel_3900\\115950156.py:143: FutureWarning: In a future version of pandas all arguments of DataFrame.drop except for the argument 'labels' will be keyword-only.\n",
      "  data = data.drop(['Unnamed: 0', 'Date', 'HomeTeam', 'AwayTeam', 'FTR'],1).reset_index()\n"
     ]
    }
   ],
   "source": [
    "data_dir = 'Final Project\\\\'\n",
    "training_set, testing_set= automated_preprocessing(data_dir)\n"
   ]
  },
  {
   "cell_type": "markdown",
   "id": "e53409db-961f-40ee-9ad3-84c148acec51",
   "metadata": {},
   "source": [
    "<h2 style = 'color: orange'>--KMean </h1>"
   ]
  },
  {
   "cell_type": "code",
   "execution_count": 4,
   "id": "dbce1c78",
   "metadata": {},
   "outputs": [
    {
     "name": "stdout",
     "output_type": "stream",
     "text": [
      "      index      FTHG      FTAG      HTHG      HTAG         HS         AS  \\\n",
      "0         0  1.000000  4.000000  0.000000  3.000000  13.000000  10.000000   \n",
      "1         1  2.000000  2.000000  0.000000  0.000000  14.000000  17.000000   \n",
      "2         2  2.000000  1.000000  1.000000  0.000000  10.000000  15.000000   \n",
      "3         3  1.000000  0.000000  0.000000  0.000000   8.000000  22.000000   \n",
      "4         4  0.000000  2.000000  0.000000  1.000000  13.000000  11.000000   \n",
      "...     ...       ...       ...       ...       ...        ...        ...   \n",
      "1770   1770  2.351351  1.270270  1.000000  0.459459  15.162162  12.621622   \n",
      "1771   1771  1.756757  0.864865  0.945946  0.270270  13.513514  10.918919   \n",
      "1772   1772  1.189189  0.567568  0.567568  0.297297  12.702703  10.540541   \n",
      "1773   1773  1.756757  1.405405  0.810811  0.675676  14.189189  12.918919   \n",
      "1774   1774  1.378378  1.297297  0.486486  0.540541  11.270270  11.486486   \n",
      "\n",
      "           HST       AST         HF         AF        HC        AC        HY  \\\n",
      "0     4.000000  5.000000   6.000000   8.000000  3.000000  7.000000  0.000000   \n",
      "1     7.000000  7.000000  10.000000  10.000000  5.000000  9.000000  0.000000   \n",
      "2     2.000000  3.000000  12.000000   5.000000  4.000000  4.000000  2.000000   \n",
      "3     5.000000  6.000000  21.000000   7.000000  2.000000  6.000000  4.000000   \n",
      "4     3.000000  7.000000  10.000000  16.000000  5.000000  7.000000  2.000000   \n",
      "...        ...       ...        ...        ...       ...       ...       ...   \n",
      "1770  5.972973  4.027027   8.432432  10.756757  6.621622  5.243243  1.000000   \n",
      "1771  5.810811  3.297297  11.459459  10.216216  5.108108  4.486486  1.891892   \n",
      "1772  4.297297  3.108108  11.135135  11.189189  5.108108  4.297297  1.918919   \n",
      "1773  5.027027  4.324324   9.864865  11.324324  5.054054  5.702703  1.513514   \n",
      "1774  3.864865  4.000000  11.432432   8.675676  4.594595  5.000000  2.054054   \n",
      "\n",
      "            AY        HR        AR  HomeWinRate  AwayWinRate  isWin  \n",
      "0     2.000000  0.000000  0.000000     0.000000     1.000000    0.0  \n",
      "1     1.000000  0.000000  0.000000     1.000000     1.000000    0.0  \n",
      "2     0.000000  0.000000  0.000000     1.000000     0.000000    0.0  \n",
      "3     1.000000  0.000000  0.000000     0.000000     0.000000    1.0  \n",
      "4     5.000000  0.000000  0.000000     0.000000     1.000000    0.0  \n",
      "...        ...       ...       ...          ...          ...    ...  \n",
      "1770  1.891892  0.054054  0.027027     0.783784     0.432432    1.0  \n",
      "1771  1.675676  0.108108  0.027027     0.513514     0.243243    0.0  \n",
      "1772  1.459459  0.081081  0.108108     0.243243     0.081081    0.0  \n",
      "1773  1.432432  0.081081  0.108108     0.621622     0.405405    0.0  \n",
      "1774  1.594595  0.081081  0.027027     0.378378     0.378378    0.0  \n",
      "\n",
      "[1775 rows x 20 columns]\n"
     ]
    }
   ],
   "source": [
    "print(testing_set)\n"
   ]
  },
  {
   "cell_type": "code",
   "execution_count": 5,
   "id": "19625df2-73c4-4a9e-af94-45066b3705a7",
   "metadata": {},
   "outputs": [
    {
     "ename": "NameError",
     "evalue": "name 'X' is not defined",
     "output_type": "error",
     "traceback": [
      "\u001b[1;31m---------------------------------------------------------------------------\u001b[0m",
      "\u001b[1;31mNameError\u001b[0m                                 Traceback (most recent call last)",
      "\u001b[1;32mc:\\Users\\ccxbo\\Downloads\\ML proj\\ML2022FP\\ML_Code.ipynb Cell 7'\u001b[0m in \u001b[0;36m<cell line: 3>\u001b[1;34m()\u001b[0m\n\u001b[0;32m      <a href='vscode-notebook-cell:/c%3A/Users/ccxbo/Downloads/ML%20proj/ML2022FP/ML_Code.ipynb#ch0000006?line=2'>3</a>\u001b[0m \u001b[39mfor\u001b[39;00m i \u001b[39min\u001b[39;00m \u001b[39mrange\u001b[39m(\u001b[39m1\u001b[39m, \u001b[39m11\u001b[39m):\n\u001b[0;32m      <a href='vscode-notebook-cell:/c%3A/Users/ccxbo/Downloads/ML%20proj/ML2022FP/ML_Code.ipynb#ch0000006?line=3'>4</a>\u001b[0m     kmeans \u001b[39m=\u001b[39m KMeans(n_clusters\u001b[39m=\u001b[39mi, init\u001b[39m=\u001b[39m\u001b[39m'\u001b[39m\u001b[39mk-means++\u001b[39m\u001b[39m'\u001b[39m, max_iter\u001b[39m=\u001b[39m\u001b[39m300\u001b[39m, n_init\u001b[39m=\u001b[39m\u001b[39m10\u001b[39m, random_state\u001b[39m=\u001b[39m\u001b[39m0\u001b[39m)\n\u001b[1;32m----> <a href='vscode-notebook-cell:/c%3A/Users/ccxbo/Downloads/ML%20proj/ML2022FP/ML_Code.ipynb#ch0000006?line=4'>5</a>\u001b[0m     kmeans\u001b[39m.\u001b[39mfit(X)\n\u001b[0;32m      <a href='vscode-notebook-cell:/c%3A/Users/ccxbo/Downloads/ML%20proj/ML2022FP/ML_Code.ipynb#ch0000006?line=5'>6</a>\u001b[0m     wcss\u001b[39m.\u001b[39mappend(kmeans\u001b[39m.\u001b[39minertia_)\n\u001b[0;32m      <a href='vscode-notebook-cell:/c%3A/Users/ccxbo/Downloads/ML%20proj/ML2022FP/ML_Code.ipynb#ch0000006?line=6'>7</a>\u001b[0m plt\u001b[39m.\u001b[39mplot(\u001b[39mrange\u001b[39m(\u001b[39m1\u001b[39m, \u001b[39m11\u001b[39m), wcss)\n",
      "\u001b[1;31mNameError\u001b[0m: name 'X' is not defined"
     ]
    }
   ],
   "source": [
    "#--------------- Elbow to find see the best number of cluster\n",
    "wcss = []\n",
    "for i in range(1, 11):\n",
    "    kmeans = KMeans(n_clusters=i, init='k-means++', max_iter=300, n_init=10, random_state=0)\n",
    "    kmeans.fit(X)\n",
    "    wcss.append(kmeans.inertia_)\n",
    "plt.plot(range(1, 11), wcss)\n",
    "plt.title('Elbow Method')\n",
    "plt.xlabel('Number of clusters')\n",
    "plt.ylabel('WCSS')\n",
    "plt.show() \n"
   ]
  },
  {
   "cell_type": "code",
   "execution_count": null,
   "id": "7bdca6e5-be01-4ff8-8be5-9914aaed6b03",
   "metadata": {},
   "outputs": [
    {
     "ename": "NameError",
     "evalue": "name 'X' is not defined",
     "output_type": "error",
     "traceback": [
      "\u001b[1;31m---------------------------------------------------------------------------\u001b[0m",
      "\u001b[1;31mNameError\u001b[0m                                 Traceback (most recent call last)",
      "\u001b[1;32mc:\\Users\\ccxbo\\Downloads\\ML proj\\ML2022FP\\ML_Code.ipynb Cell 8'\u001b[0m in \u001b[0;36m<cell line: 4>\u001b[1;34m()\u001b[0m\n\u001b[0;32m      <a href='vscode-notebook-cell:/c%3A/Users/ccxbo/Downloads/ML%20proj/ML2022FP/ML_Code.ipynb#ch0000007?line=1'>2</a>\u001b[0m \u001b[39m#--------------- Selecting the best n as our n_cluster\u001b[39;00m\n\u001b[0;32m      <a href='vscode-notebook-cell:/c%3A/Users/ccxbo/Downloads/ML%20proj/ML2022FP/ML_Code.ipynb#ch0000007?line=2'>3</a>\u001b[0m kmeans \u001b[39m=\u001b[39m KMeans(n_cluster, init\u001b[39m=\u001b[39m\u001b[39m'\u001b[39m\u001b[39mk-means++\u001b[39m\u001b[39m'\u001b[39m, max_iter\u001b[39m=\u001b[39m\u001b[39m300\u001b[39m, n_init\u001b[39m=\u001b[39m\u001b[39m300\u001b[39m, random_state\u001b[39m=\u001b[39m\u001b[39m0\u001b[39m)\n\u001b[1;32m----> <a href='vscode-notebook-cell:/c%3A/Users/ccxbo/Downloads/ML%20proj/ML2022FP/ML_Code.ipynb#ch0000007?line=3'>4</a>\u001b[0m pred_y \u001b[39m=\u001b[39m kmeans\u001b[39m.\u001b[39mfit_predict(X)\n\u001b[0;32m      <a href='vscode-notebook-cell:/c%3A/Users/ccxbo/Downloads/ML%20proj/ML2022FP/ML_Code.ipynb#ch0000007?line=5'>6</a>\u001b[0m \u001b[39m#--------------- Viz our clusters\u001b[39;00m\n\u001b[0;32m      <a href='vscode-notebook-cell:/c%3A/Users/ccxbo/Downloads/ML%20proj/ML2022FP/ML_Code.ipynb#ch0000007?line=6'>7</a>\u001b[0m plt\u001b[39m.\u001b[39mscatter(X[:,\u001b[39m0\u001b[39m], X[:,\u001b[39m1\u001b[39m])\n",
      "\u001b[1;31mNameError\u001b[0m: name 'X' is not defined"
     ]
    }
   ],
   "source": [
    "n_cluster = 3\n",
    "#--------------- Selecting the best n as our n_cluster\n",
    "kmeans = KMeans(n_cluster, init='k-means++', max_iter=300, n_init=300, random_state=0)\n",
    "pred_y = kmeans.fit_predict(X)\n",
    "\n",
    "#--------------- Viz our clusters\n",
    "plt.scatter(X[:,0], X[:,1])\n",
    "plt.scatter(kmeans.cluster_centers_[:, 0], kmeans.cluster_centers_[:, 1], s=300, c='red')\n",
    "plt.show()\n"
   ]
  },
  {
   "cell_type": "code",
   "execution_count": null,
   "id": "16003561-0ac7-4b1f-a432-90b987e82bc5",
   "metadata": {},
   "outputs": [],
   "source": [
    "labels2 = kmeans.labels_\n",
    "centroids2=kmeans.cluster_centers_\n",
    "UD = training_set[[i for i in training_set.columns if i not in [\"isWin\", \"label\"]]]\n",
    "legend = [list(UD.columns), list(UD.columns)]\n",
    "t_l = list()\n",
    "for i in legend[0]:\n",
    "    for j in legend[1]:\n",
    "        t_l.append((i, j))\n",
    "        \n",
    "h = 0.003\n",
    "x_min, x_max = X[:, 0].min() - 1, X[: , 0].max() + 1\n",
    "y_min, y_max = X[:, 1].min() - 1, X[: , 1].max() + 1\n",
    "xx, yy = np.meshgrid(np.arange(x_min, x_max, h), np.arange(y_min, y_max, h))\n",
    "z2 = kmeans.predict(np.c_[xx.ravel(), yy.ravel()])\n",
    "\n",
    "plt.figure(1, figsize = (15, 7))\n",
    "plt.clf()\n",
    "z2 = z2.reshape(xx.shape)\n",
    "plt.imshow(z2, interpolation='nearest', extent=(xx.min(), xx.max(), yy.min(), yy.max()), cmap = plt.cm.Pastel2, aspect = 'auto', origin='lower')\n",
    "plt.scatter(X[:,0], X[:,1], c = labels2, s = 100)\n",
    "plt.scatter(x = centroids2[:, 0], y = centroids2[:, 1], s = 200, c = 'red', alpha = 0.5)\n",
    "plt.ylabel, plt.xlabel\n",
    "plt.show()"
   ]
  },
  {
   "cell_type": "code",
   "execution_count": 6,
   "id": "5eb1c0a4",
   "metadata": {},
   "outputs": [],
   "source": [
    "testing_set_x = testing_set.drop(\"isWin\", axis=1)\n",
    "training_set_x = training_set.drop(\"isWin\", axis=1)\n",
    "\n",
    "X_test = testing_set_x.to_numpy()\n",
    "X = training_set_x.to_numpy()\n",
    "\n",
    "X_input_test = StandardScaler().fit_transform(X_test)\n",
    "X_input = StandardScaler().fit_transform(X)"
   ]
  },
  {
   "cell_type": "markdown",
   "id": "f21cdda4",
   "metadata": {},
   "source": [
    "# Logistic Regression"
   ]
  },
  {
   "cell_type": "code",
   "execution_count": null,
   "id": "43115228",
   "metadata": {},
   "outputs": [
    {
     "name": "stderr",
     "output_type": "stream",
     "text": [
      "C:\\Python310\\lib\\site-packages\\sklearn\\utils\\validation.py:993: DataConversionWarning: A column-vector y was passed when a 1d array was expected. Please change the shape of y to (n_samples, ), for example using ravel().\n",
      "  y = column_or_1d(y, warn=True)\n",
      "C:\\Python310\\lib\\site-packages\\sklearn\\utils\\validation.py:993: DataConversionWarning: A column-vector y was passed when a 1d array was expected. Please change the shape of y to (n_samples, ), for example using ravel().\n",
      "  y = column_or_1d(y, warn=True)\n",
      "C:\\Python310\\lib\\site-packages\\sklearn\\utils\\validation.py:993: DataConversionWarning: A column-vector y was passed when a 1d array was expected. Please change the shape of y to (n_samples, ), for example using ravel().\n",
      "  y = column_or_1d(y, warn=True)\n",
      "C:\\Python310\\lib\\site-packages\\sklearn\\utils\\validation.py:993: DataConversionWarning: A column-vector y was passed when a 1d array was expected. Please change the shape of y to (n_samples, ), for example using ravel().\n",
      "  y = column_or_1d(y, warn=True)\n",
      "C:\\Python310\\lib\\site-packages\\sklearn\\utils\\validation.py:993: DataConversionWarning: A column-vector y was passed when a 1d array was expected. Please change the shape of y to (n_samples, ), for example using ravel().\n",
      "  y = column_or_1d(y, warn=True)\n",
      "C:\\Python310\\lib\\site-packages\\sklearn\\utils\\validation.py:993: DataConversionWarning: A column-vector y was passed when a 1d array was expected. Please change the shape of y to (n_samples, ), for example using ravel().\n",
      "  y = column_or_1d(y, warn=True)\n",
      "C:\\Python310\\lib\\site-packages\\sklearn\\utils\\validation.py:993: DataConversionWarning: A column-vector y was passed when a 1d array was expected. Please change the shape of y to (n_samples, ), for example using ravel().\n",
      "  y = column_or_1d(y, warn=True)\n",
      "C:\\Python310\\lib\\site-packages\\sklearn\\utils\\validation.py:993: DataConversionWarning: A column-vector y was passed when a 1d array was expected. Please change the shape of y to (n_samples, ), for example using ravel().\n",
      "  y = column_or_1d(y, warn=True)\n",
      "C:\\Python310\\lib\\site-packages\\sklearn\\utils\\validation.py:993: DataConversionWarning: A column-vector y was passed when a 1d array was expected. Please change the shape of y to (n_samples, ), for example using ravel().\n",
      "  y = column_or_1d(y, warn=True)\n",
      "C:\\Python310\\lib\\site-packages\\sklearn\\utils\\validation.py:993: DataConversionWarning: A column-vector y was passed when a 1d array was expected. Please change the shape of y to (n_samples, ), for example using ravel().\n",
      "  y = column_or_1d(y, warn=True)\n",
      "C:\\Python310\\lib\\site-packages\\sklearn\\utils\\validation.py:993: DataConversionWarning: A column-vector y was passed when a 1d array was expected. Please change the shape of y to (n_samples, ), for example using ravel().\n",
      "  y = column_or_1d(y, warn=True)\n",
      "C:\\Python310\\lib\\site-packages\\sklearn\\utils\\validation.py:993: DataConversionWarning: A column-vector y was passed when a 1d array was expected. Please change the shape of y to (n_samples, ), for example using ravel().\n",
      "  y = column_or_1d(y, warn=True)\n",
      "C:\\Python310\\lib\\site-packages\\sklearn\\utils\\validation.py:993: DataConversionWarning: A column-vector y was passed when a 1d array was expected. Please change the shape of y to (n_samples, ), for example using ravel().\n",
      "  y = column_or_1d(y, warn=True)\n",
      "C:\\Python310\\lib\\site-packages\\sklearn\\utils\\validation.py:993: DataConversionWarning: A column-vector y was passed when a 1d array was expected. Please change the shape of y to (n_samples, ), for example using ravel().\n",
      "  y = column_or_1d(y, warn=True)\n",
      "C:\\Python310\\lib\\site-packages\\sklearn\\utils\\validation.py:993: DataConversionWarning: A column-vector y was passed when a 1d array was expected. Please change the shape of y to (n_samples, ), for example using ravel().\n",
      "  y = column_or_1d(y, warn=True)\n",
      "C:\\Python310\\lib\\site-packages\\sklearn\\utils\\validation.py:993: DataConversionWarning: A column-vector y was passed when a 1d array was expected. Please change the shape of y to (n_samples, ), for example using ravel().\n",
      "  y = column_or_1d(y, warn=True)\n",
      "C:\\Python310\\lib\\site-packages\\sklearn\\utils\\validation.py:993: DataConversionWarning: A column-vector y was passed when a 1d array was expected. Please change the shape of y to (n_samples, ), for example using ravel().\n",
      "  y = column_or_1d(y, warn=True)\n",
      "C:\\Python310\\lib\\site-packages\\sklearn\\utils\\validation.py:993: DataConversionWarning: A column-vector y was passed when a 1d array was expected. Please change the shape of y to (n_samples, ), for example using ravel().\n",
      "  y = column_or_1d(y, warn=True)\n"
     ]
    },
    {
     "data": {
      "image/png": "[encoded data removed]",
      "text/plain": [
       "<Figure size 432x288 with 1 Axes>"
      ]
     },
     "metadata": {
      "needs_background": "light"
     },
     "output_type": "display_data"
    }
   ],
   "source": [
    "scores = []\n",
    "\n",
    "for i in range(2, 19):\n",
    "    pca = PCA(n_components=i)\n",
    "    X = pca.fit_transform(X_input)\n",
    "    X_test = pca.fit_transform(X_input_test)\n",
    "\n",
    "    train_y = training_set[[\"isWin\"]]\n",
    "    test_y = testing_set[[\"isWin\"]]\n",
    "\n",
    "    model = LogisticRegression(solver='liblinear', random_state=0)\n",
    "    model.fit(X, train_y)\n",
    "    score = model.score(X_test, test_y)\n",
    "    \n",
    "    scores.append(score)\n",
    "model = LogisticRegression(solver='liblinear', random_state=0)\n",
    "model.fit(X, train_y)\n",
    "score = model.score(X_test, test_y)\n",
    "\n",
    "plt.plot(range(2, 19), scores)\n",
    "plt.title('Elbow Method')\n",
    "plt.xlabel('Number of clusters')\n",
    "plt.ylabel('WCSS')\n",
    "plt.show() \n",
    "\n",
    "\n"
   ]
  },
  {
   "cell_type": "markdown",
   "id": "47fc23ad",
   "metadata": {},
   "source": []
  },
  {
   "cell_type": "markdown",
   "id": "70164ba6",
   "metadata": {},
   "source": [
    "# Neural Network"
   ]
  },
  {
   "cell_type": "code",
   "execution_count": 30,
   "id": "68ef23bb",
   "metadata": {},
   "outputs": [
    {
     "name": "stdout",
     "output_type": "stream",
     "text": [
      "Epoch 1/80\n",
      "1317/1332 [============================>.] - ETA: 0s - loss: 0.6432 - accuracy: 0.6314WARNING:tensorflow:Callbacks method `on_test_batch_begin` is slow compared to the batch time (batch time: 0.0000s vs `on_test_batch_begin` time: 0.0010s). Check your callbacks.\n",
      "1332/1332 [==============================] - 3s 2ms/step - loss: 0.6429 - accuracy: 0.6317 - val_loss: 0.6357 - val_accuracy: 0.6338\n",
      "Epoch 2/80\n",
      "1332/1332 [==============================] - 2s 2ms/step - loss: 0.6294 - accuracy: 0.6439 - val_loss: 0.6315 - val_accuracy: 0.6479\n",
      "Epoch 3/80\n",
      "1332/1332 [==============================] - 2s 2ms/step - loss: 0.6272 - accuracy: 0.6453 - val_loss: 0.6301 - val_accuracy: 0.6501\n",
      "Epoch 4/80\n",
      "1332/1332 [==============================] - 2s 2ms/step - loss: 0.6248 - accuracy: 0.6481 - val_loss: 0.6324 - val_accuracy: 0.6468\n",
      "Epoch 5/80\n",
      "1332/1332 [==============================] - 2s 2ms/step - loss: 0.6217 - accuracy: 0.6518 - val_loss: 0.6373 - val_accuracy: 0.6417\n",
      "Epoch 6/80\n",
      "1332/1332 [==============================] - 2s 2ms/step - loss: 0.6210 - accuracy: 0.6539 - val_loss: 0.6301 - val_accuracy: 0.6479\n",
      "Epoch 7/80\n",
      "1332/1332 [==============================] - 2s 1ms/step - loss: 0.6186 - accuracy: 0.6568 - val_loss: 0.6324 - val_accuracy: 0.6423\n",
      "Epoch 8/80\n",
      "1332/1332 [==============================] - 2s 1ms/step - loss: 0.6170 - accuracy: 0.6556 - val_loss: 0.6371 - val_accuracy: 0.6327\n",
      "Epoch 9/80\n",
      "1332/1332 [==============================] - 2s 1ms/step - loss: 0.6154 - accuracy: 0.6593 - val_loss: 0.6406 - val_accuracy: 0.6355\n",
      "Epoch 10/80\n",
      "1332/1332 [==============================] - 2s 2ms/step - loss: 0.6145 - accuracy: 0.6622 - val_loss: 0.6418 - val_accuracy: 0.6411\n",
      "Epoch 11/80\n",
      "1332/1332 [==============================] - 2s 1ms/step - loss: 0.6131 - accuracy: 0.6616 - val_loss: 0.6316 - val_accuracy: 0.6518\n",
      "Epoch 12/80\n",
      "1332/1332 [==============================] - 2s 1ms/step - loss: 0.6106 - accuracy: 0.6620 - val_loss: 0.6398 - val_accuracy: 0.6462\n",
      "Epoch 13/80\n",
      "1332/1332 [==============================] - 2s 1ms/step - loss: 0.6102 - accuracy: 0.6647 - val_loss: 0.6343 - val_accuracy: 0.6535\n",
      "Epoch 14/80\n",
      "1332/1332 [==============================] - 2s 1ms/step - loss: 0.6080 - accuracy: 0.6680 - val_loss: 0.6399 - val_accuracy: 0.6462\n",
      "Epoch 15/80\n",
      "1332/1332 [==============================] - 2s 1ms/step - loss: 0.6074 - accuracy: 0.6676 - val_loss: 0.6362 - val_accuracy: 0.6462\n",
      "Epoch 16/80\n",
      "1332/1332 [==============================] - 2s 1ms/step - loss: 0.6053 - accuracy: 0.6709 - val_loss: 0.6415 - val_accuracy: 0.6434\n",
      "Epoch 17/80\n",
      "1332/1332 [==============================] - 2s 2ms/step - loss: 0.6047 - accuracy: 0.6733 - val_loss: 0.6432 - val_accuracy: 0.6411\n",
      "Epoch 18/80\n",
      "1332/1332 [==============================] - 4s 3ms/step - loss: 0.6029 - accuracy: 0.6720 - val_loss: 0.6389 - val_accuracy: 0.6389\n",
      "Epoch 19/80\n",
      "1332/1332 [==============================] - 3s 2ms/step - loss: 0.6001 - accuracy: 0.6789 - val_loss: 0.6438 - val_accuracy: 0.6400\n",
      "Epoch 20/80\n",
      "1332/1332 [==============================] - 2s 2ms/step - loss: 0.6003 - accuracy: 0.6751 - val_loss: 0.6577 - val_accuracy: 0.6366\n",
      "Epoch 21/80\n",
      "1332/1332 [==============================] - 3s 2ms/step - loss: 0.5992 - accuracy: 0.6769 - val_loss: 0.6439 - val_accuracy: 0.6451\n",
      "Epoch 22/80\n",
      "1332/1332 [==============================] - 2s 2ms/step - loss: 0.5980 - accuracy: 0.6795 - val_loss: 0.6467 - val_accuracy: 0.6434\n",
      "Epoch 23/80\n",
      "1332/1332 [==============================] - 2s 2ms/step - loss: 0.5963 - accuracy: 0.6778 - val_loss: 0.6500 - val_accuracy: 0.6372\n",
      "Epoch 24/80\n",
      "1332/1332 [==============================] - 2s 2ms/step - loss: 0.5935 - accuracy: 0.6830 - val_loss: 0.6515 - val_accuracy: 0.6377\n",
      "Epoch 25/80\n",
      "1332/1332 [==============================] - 2s 1ms/step - loss: 0.5923 - accuracy: 0.6879 - val_loss: 0.6543 - val_accuracy: 0.6428\n",
      "Epoch 26/80\n",
      "1332/1332 [==============================] - 2s 1ms/step - loss: 0.5928 - accuracy: 0.6845 - val_loss: 0.6486 - val_accuracy: 0.6423\n",
      "Epoch 27/80\n",
      "1332/1332 [==============================] - 2s 1ms/step - loss: 0.5906 - accuracy: 0.6858 - val_loss: 0.6465 - val_accuracy: 0.6434\n",
      "Epoch 28/80\n",
      "1332/1332 [==============================] - 2s 1ms/step - loss: 0.5893 - accuracy: 0.6890 - val_loss: 0.6536 - val_accuracy: 0.6400\n",
      "Epoch 29/80\n",
      "1332/1332 [==============================] - 2s 1ms/step - loss: 0.5888 - accuracy: 0.6881 - val_loss: 0.6473 - val_accuracy: 0.6361\n",
      "Epoch 30/80\n",
      "1332/1332 [==============================] - 2s 1ms/step - loss: 0.5871 - accuracy: 0.6873 - val_loss: 0.6602 - val_accuracy: 0.6417\n",
      "Epoch 31/80\n",
      "1332/1332 [==============================] - 2s 1ms/step - loss: 0.5848 - accuracy: 0.6940 - val_loss: 0.6614 - val_accuracy: 0.6361\n",
      "Epoch 32/80\n",
      "1332/1332 [==============================] - 2s 1ms/step - loss: 0.5834 - accuracy: 0.6933 - val_loss: 0.6618 - val_accuracy: 0.6361\n",
      "Epoch 33/80\n",
      "1332/1332 [==============================] - 2s 1ms/step - loss: 0.5830 - accuracy: 0.6942 - val_loss: 0.6543 - val_accuracy: 0.6406\n",
      "Epoch 34/80\n",
      "1332/1332 [==============================] - 2s 1ms/step - loss: 0.5803 - accuracy: 0.6968 - val_loss: 0.6731 - val_accuracy: 0.6338\n",
      "Epoch 35/80\n",
      "1332/1332 [==============================] - 2s 1ms/step - loss: 0.5814 - accuracy: 0.6942 - val_loss: 0.6679 - val_accuracy: 0.6332\n",
      "Epoch 36/80\n",
      "1332/1332 [==============================] - 2s 2ms/step - loss: 0.5800 - accuracy: 0.6945 - val_loss: 0.6587 - val_accuracy: 0.6434\n",
      "Epoch 37/80\n",
      "1332/1332 [==============================] - 2s 2ms/step - loss: 0.5788 - accuracy: 0.6954 - val_loss: 0.6649 - val_accuracy: 0.6389\n",
      "Epoch 38/80\n",
      "1332/1332 [==============================] - 2s 2ms/step - loss: 0.5767 - accuracy: 0.6997 - val_loss: 0.6642 - val_accuracy: 0.6513\n",
      "Epoch 39/80\n",
      "1332/1332 [==============================] - 2s 1ms/step - loss: 0.5767 - accuracy: 0.7002 - val_loss: 0.6628 - val_accuracy: 0.6411\n",
      "Epoch 40/80\n",
      "1332/1332 [==============================] - 2s 1ms/step - loss: 0.5742 - accuracy: 0.7035 - val_loss: 0.6625 - val_accuracy: 0.6394\n",
      "Epoch 41/80\n",
      "1332/1332 [==============================] - 2s 1ms/step - loss: 0.5738 - accuracy: 0.6999 - val_loss: 0.6723 - val_accuracy: 0.6270\n",
      "Epoch 42/80\n",
      "1332/1332 [==============================] - 2s 1ms/step - loss: 0.5729 - accuracy: 0.7053 - val_loss: 0.6872 - val_accuracy: 0.6130\n",
      "Epoch 43/80\n",
      "1332/1332 [==============================] - 2s 1ms/step - loss: 0.5735 - accuracy: 0.7020 - val_loss: 0.6715 - val_accuracy: 0.6344\n",
      "Epoch 44/80\n",
      "1332/1332 [==============================] - 2s 1ms/step - loss: 0.5709 - accuracy: 0.7087 - val_loss: 0.6723 - val_accuracy: 0.6293\n",
      "Epoch 45/80\n",
      "1332/1332 [==============================] - 2s 1ms/step - loss: 0.5704 - accuracy: 0.7084 - val_loss: 0.6733 - val_accuracy: 0.6344\n",
      "Epoch 46/80\n",
      "1332/1332 [==============================] - 2s 1ms/step - loss: 0.5687 - accuracy: 0.7074 - val_loss: 0.6761 - val_accuracy: 0.6349\n",
      "Epoch 47/80\n",
      "1332/1332 [==============================] - 2s 1ms/step - loss: 0.5694 - accuracy: 0.7045 - val_loss: 0.6922 - val_accuracy: 0.6220\n",
      "Epoch 48/80\n",
      "1332/1332 [==============================] - 2s 1ms/step - loss: 0.5675 - accuracy: 0.7081 - val_loss: 0.6917 - val_accuracy: 0.6383\n",
      "Epoch 49/80\n",
      "1332/1332 [==============================] - 2s 1ms/step - loss: 0.5677 - accuracy: 0.7056 - val_loss: 0.6949 - val_accuracy: 0.6327\n",
      "Epoch 50/80\n",
      "1332/1332 [==============================] - 2s 1ms/step - loss: 0.5667 - accuracy: 0.7097 - val_loss: 0.6740 - val_accuracy: 0.6259\n",
      "Epoch 51/80\n",
      "1332/1332 [==============================] - 2s 1ms/step - loss: 0.5627 - accuracy: 0.7138 - val_loss: 0.6777 - val_accuracy: 0.6101\n",
      "Epoch 52/80\n",
      "1332/1332 [==============================] - 2s 1ms/step - loss: 0.5630 - accuracy: 0.7155 - val_loss: 0.6837 - val_accuracy: 0.6237\n",
      "Epoch 53/80\n",
      "1332/1332 [==============================] - 2s 1ms/step - loss: 0.5607 - accuracy: 0.7143 - val_loss: 0.6961 - val_accuracy: 0.6259\n",
      "Epoch 54/80\n",
      "1332/1332 [==============================] - 2s 1ms/step - loss: 0.5599 - accuracy: 0.7150 - val_loss: 0.6881 - val_accuracy: 0.6107\n",
      "Epoch 55/80\n",
      "1332/1332 [==============================] - 2s 1ms/step - loss: 0.5584 - accuracy: 0.7144 - val_loss: 0.6810 - val_accuracy: 0.6349\n",
      "Epoch 56/80\n",
      "1332/1332 [==============================] - 2s 1ms/step - loss: 0.5585 - accuracy: 0.7162 - val_loss: 0.6918 - val_accuracy: 0.6158\n",
      "Epoch 57/80\n",
      "1332/1332 [==============================] - 2s 1ms/step - loss: 0.5598 - accuracy: 0.7157 - val_loss: 0.6803 - val_accuracy: 0.6276\n",
      "Epoch 58/80\n",
      "1332/1332 [==============================] - 2s 1ms/step - loss: 0.5574 - accuracy: 0.7159 - val_loss: 0.7078 - val_accuracy: 0.6158\n",
      "Epoch 59/80\n",
      "1332/1332 [==============================] - 2s 1ms/step - loss: 0.5564 - accuracy: 0.7166 - val_loss: 0.6891 - val_accuracy: 0.6254\n",
      "Epoch 60/80\n",
      "1332/1332 [==============================] - 2s 1ms/step - loss: 0.5566 - accuracy: 0.7182 - val_loss: 0.6938 - val_accuracy: 0.6192\n",
      "Epoch 61/80\n",
      "1332/1332 [==============================] - 2s 1ms/step - loss: 0.5531 - accuracy: 0.7163 - val_loss: 0.7140 - val_accuracy: 0.6146\n",
      "Epoch 62/80\n",
      "1332/1332 [==============================] - 2s 1ms/step - loss: 0.5550 - accuracy: 0.7189 - val_loss: 0.7078 - val_accuracy: 0.6180\n",
      "Epoch 63/80\n",
      "1332/1332 [==============================] - 2s 1ms/step - loss: 0.5529 - accuracy: 0.7214 - val_loss: 0.7106 - val_accuracy: 0.6051\n",
      "Epoch 64/80\n",
      "1332/1332 [==============================] - 2s 2ms/step - loss: 0.5511 - accuracy: 0.7225 - val_loss: 0.6955 - val_accuracy: 0.6192\n",
      "Epoch 65/80\n",
      "1332/1332 [==============================] - 2s 2ms/step - loss: 0.5518 - accuracy: 0.7221 - val_loss: 0.7007 - val_accuracy: 0.6208\n",
      "Epoch 66/80\n",
      "1332/1332 [==============================] - 2s 1ms/step - loss: 0.5534 - accuracy: 0.7193 - val_loss: 0.6966 - val_accuracy: 0.6208\n",
      "Epoch 67/80\n",
      "1332/1332 [==============================] - 2s 1ms/step - loss: 0.5504 - accuracy: 0.7210 - val_loss: 0.7045 - val_accuracy: 0.6158\n",
      "Epoch 68/80\n",
      "1332/1332 [==============================] - 2s 1ms/step - loss: 0.5494 - accuracy: 0.7222 - val_loss: 0.7071 - val_accuracy: 0.6208\n",
      "Epoch 69/80\n",
      "1332/1332 [==============================] - 2s 1ms/step - loss: 0.5485 - accuracy: 0.7242 - val_loss: 0.7001 - val_accuracy: 0.6152\n",
      "Epoch 70/80\n",
      "1332/1332 [==============================] - 2s 1ms/step - loss: 0.5474 - accuracy: 0.7231 - val_loss: 0.7112 - val_accuracy: 0.6203\n",
      "Epoch 71/80\n",
      "1332/1332 [==============================] - 2s 1ms/step - loss: 0.5475 - accuracy: 0.7240 - val_loss: 0.7064 - val_accuracy: 0.6130\n",
      "Epoch 72/80\n",
      "1332/1332 [==============================] - 2s 1ms/step - loss: 0.5445 - accuracy: 0.7243 - val_loss: 0.7165 - val_accuracy: 0.6197\n",
      "Epoch 73/80\n",
      "1332/1332 [==============================] - 2s 1ms/step - loss: 0.5466 - accuracy: 0.7244 - val_loss: 0.7162 - val_accuracy: 0.6203\n",
      "Epoch 74/80\n",
      "1332/1332 [==============================] - 2s 1ms/step - loss: 0.5455 - accuracy: 0.7244 - val_loss: 0.7113 - val_accuracy: 0.6254\n",
      "Epoch 75/80\n",
      "1332/1332 [==============================] - 2s 1ms/step - loss: 0.5455 - accuracy: 0.7265 - val_loss: 0.7183 - val_accuracy: 0.6203\n",
      "Epoch 76/80\n",
      "1332/1332 [==============================] - 2s 1ms/step - loss: 0.5461 - accuracy: 0.7245 - val_loss: 0.7044 - val_accuracy: 0.6203\n",
      "Epoch 77/80\n",
      "1332/1332 [==============================] - 2s 1ms/step - loss: 0.5452 - accuracy: 0.7243 - val_loss: 0.7098 - val_accuracy: 0.6186\n",
      "Epoch 78/80\n",
      "1332/1332 [==============================] - 2s 1ms/step - loss: 0.5424 - accuracy: 0.7277 - val_loss: 0.7108 - val_accuracy: 0.6062\n",
      "Epoch 79/80\n",
      "1332/1332 [==============================] - 2s 1ms/step - loss: 0.5418 - accuracy: 0.7261 - val_loss: 0.7159 - val_accuracy: 0.6141\n",
      "Epoch 80/80\n",
      "1332/1332 [==============================] - 2s 1ms/step - loss: 0.5408 - accuracy: 0.7306 - val_loss: 0.7212 - val_accuracy: 0.6169\n",
      " 1/56 [..............................] - ETA: 0s - loss: 1.0545 - accuracy: 0.4688WARNING:tensorflow:Callbacks method `on_test_batch_end` is slow compared to the batch time (batch time: 0.0000s vs `on_test_batch_end` time: 0.0010s). Check your callbacks.\n",
      "56/56 [==============================] - 0s 964us/step - loss: 0.7212 - accuracy: 0.6169\n",
      "0.6169013977050781\n"
     ]
    },
    {
     "data": {
      "image/png": "[encoded data removed]",
      "text/plain": [
       "<Figure size 432x288 with 1 Axes>"
      ]
     },
     "metadata": {
      "needs_background": "light"
     },
     "output_type": "display_data"
    }
   ],
   "source": [
    "from numpy import loadtxt\n",
    "from keras.models import Sequential\n",
    "from keras.layers import Dense\n",
    "scores = []\n",
    "\n",
    "# for i in range(2, 19, 2):\n",
    "# pca = PCA(n_components=i)\n",
    "# X = pca.fit_transform(X_input)\n",
    "# X_test = pca.fit_transform(X_input_test)\n",
    "i = 19\n",
    "X = X_input\n",
    "X_test = X_input_test\n",
    "train_y = training_set[[\"isWin\"]]\n",
    "test_y = testing_set[[\"isWin\"]]\n",
    "\n",
    "# model = LogisticRegression(solver='liblinear', random_state=0)\n",
    "# model.fit(X, train_y)\n",
    "# score = model.score(X_test, test_y)\n",
    "model = Sequential()\n",
    "model.add(Dense(12, input_dim=i, activation='relu'))\n",
    "model.add(Dense(i, activation='relu'))\n",
    "model.add(Dense(i, activation='relu'))\n",
    "model.add(Dense(i, activation='relu'))\n",
    "model.add(Dense(i, activation='relu'))\n",
    "model.add(Dense(int(i/2), activation='relu'))\n",
    "model.add(Dense(1, activation='sigmoid'))\n",
    "model.compile( loss='binary_crossentropy', optimizer='adam', metrics=['accuracy'])\n",
    "history = model.fit(X, train_y,validation_data=(X_test, test_y), epochs=80, batch_size=10)\n",
    "_, accuracy = model.evaluate(X_test, test_y)\n",
    "print(accuracy)\n",
    "plt.plot(history.history['accuracy'])\n",
    "plt.plot(history.history['val_accuracy'])\n",
    "plt.title('model accuracy')\n",
    "plt.ylabel('accuracy')\n",
    "plt.xlabel('epoch')\n",
    "plt.legend(['train', 'test'], loc='upper left')\n",
    "plt.show()\n",
    "# scores.append(accuracy)"
   ]
  },
  {
   "cell_type": "code",
   "execution_count": 27,
   "id": "70ae1289",
   "metadata": {},
   "outputs": [
    {
     "name": "stdout",
     "output_type": "stream",
     "text": [
      "dict_keys(['loss', 'accuracy'])\n"
     ]
    },
    {
     "ename": "ValueError",
     "evalue": "x and y must have same first dimension, but have shapes (9,) and (0,)",
     "output_type": "error",
     "traceback": [
      "\u001b[1;31m---------------------------------------------------------------------------\u001b[0m",
      "\u001b[1;31mValueError\u001b[0m                                Traceback (most recent call last)",
      "\u001b[1;32mc:\\Users\\ccxbo\\Downloads\\ML proj\\ML2022FP\\ML_Code.ipynb Cell 16'\u001b[0m in \u001b[0;36m<cell line: 2>\u001b[1;34m()\u001b[0m\n\u001b[0;32m      <a href='vscode-notebook-cell:/c%3A/Users/ccxbo/Downloads/ML%20proj/ML2022FP/ML_Code.ipynb#ch0000015?line=0'>1</a>\u001b[0m \u001b[39mprint\u001b[39m(history\u001b[39m.\u001b[39mhistory\u001b[39m.\u001b[39mkeys())\n\u001b[1;32m----> <a href='vscode-notebook-cell:/c%3A/Users/ccxbo/Downloads/ML%20proj/ML2022FP/ML_Code.ipynb#ch0000015?line=1'>2</a>\u001b[0m plt\u001b[39m.\u001b[39;49mplot(\u001b[39mrange\u001b[39;49m(\u001b[39m2\u001b[39;49m, \u001b[39m19\u001b[39;49m, \u001b[39m2\u001b[39;49m), scores)\n\u001b[0;32m      <a href='vscode-notebook-cell:/c%3A/Users/ccxbo/Downloads/ML%20proj/ML2022FP/ML_Code.ipynb#ch0000015?line=2'>3</a>\u001b[0m plt\u001b[39m.\u001b[39mtitle(\u001b[39m'\u001b[39m\u001b[39mPCA components with Neural Network\u001b[39m\u001b[39m'\u001b[39m)\n\u001b[0;32m      <a href='vscode-notebook-cell:/c%3A/Users/ccxbo/Downloads/ML%20proj/ML2022FP/ML_Code.ipynb#ch0000015?line=3'>4</a>\u001b[0m plt\u001b[39m.\u001b[39mxlabel(\u001b[39m'\u001b[39m\u001b[39mNumber of components\u001b[39m\u001b[39m'\u001b[39m)\n",
      "File \u001b[1;32m~\\miniconda3\\envs\\ml_hw4\\lib\\site-packages\\matplotlib\\pyplot.py:2757\u001b[0m, in \u001b[0;36mplot\u001b[1;34m(scalex, scaley, data, *args, **kwargs)\u001b[0m\n\u001b[0;32m   <a href='file:///c%3A/Users/ccxbo/miniconda3/envs/ml_hw4/lib/site-packages/matplotlib/pyplot.py?line=2754'>2755</a>\u001b[0m \u001b[39m@_copy_docstring_and_deprecators\u001b[39m(Axes\u001b[39m.\u001b[39mplot)\n\u001b[0;32m   <a href='file:///c%3A/Users/ccxbo/miniconda3/envs/ml_hw4/lib/site-packages/matplotlib/pyplot.py?line=2755'>2756</a>\u001b[0m \u001b[39mdef\u001b[39;00m \u001b[39mplot\u001b[39m(\u001b[39m*\u001b[39margs, scalex\u001b[39m=\u001b[39m\u001b[39mTrue\u001b[39;00m, scaley\u001b[39m=\u001b[39m\u001b[39mTrue\u001b[39;00m, data\u001b[39m=\u001b[39m\u001b[39mNone\u001b[39;00m, \u001b[39m*\u001b[39m\u001b[39m*\u001b[39mkwargs):\n\u001b[1;32m-> <a href='file:///c%3A/Users/ccxbo/miniconda3/envs/ml_hw4/lib/site-packages/matplotlib/pyplot.py?line=2756'>2757</a>\u001b[0m     \u001b[39mreturn\u001b[39;00m gca()\u001b[39m.\u001b[39;49mplot(\n\u001b[0;32m   <a href='file:///c%3A/Users/ccxbo/miniconda3/envs/ml_hw4/lib/site-packages/matplotlib/pyplot.py?line=2757'>2758</a>\u001b[0m         \u001b[39m*\u001b[39;49margs, scalex\u001b[39m=\u001b[39;49mscalex, scaley\u001b[39m=\u001b[39;49mscaley,\n\u001b[0;32m   <a href='file:///c%3A/Users/ccxbo/miniconda3/envs/ml_hw4/lib/site-packages/matplotlib/pyplot.py?line=2758'>2759</a>\u001b[0m         \u001b[39m*\u001b[39;49m\u001b[39m*\u001b[39;49m({\u001b[39m\"\u001b[39;49m\u001b[39mdata\u001b[39;49m\u001b[39m\"\u001b[39;49m: data} \u001b[39mif\u001b[39;49;00m data \u001b[39mis\u001b[39;49;00m \u001b[39mnot\u001b[39;49;00m \u001b[39mNone\u001b[39;49;00m \u001b[39melse\u001b[39;49;00m {}), \u001b[39m*\u001b[39;49m\u001b[39m*\u001b[39;49mkwargs)\n",
      "File \u001b[1;32m~\\miniconda3\\envs\\ml_hw4\\lib\\site-packages\\matplotlib\\axes\\_axes.py:1632\u001b[0m, in \u001b[0;36mAxes.plot\u001b[1;34m(self, scalex, scaley, data, *args, **kwargs)\u001b[0m\n\u001b[0;32m   <a href='file:///c%3A/Users/ccxbo/miniconda3/envs/ml_hw4/lib/site-packages/matplotlib/axes/_axes.py?line=1389'>1390</a>\u001b[0m \u001b[39m\"\"\"\u001b[39;00m\n\u001b[0;32m   <a href='file:///c%3A/Users/ccxbo/miniconda3/envs/ml_hw4/lib/site-packages/matplotlib/axes/_axes.py?line=1390'>1391</a>\u001b[0m \u001b[39mPlot y versus x as lines and/or markers.\u001b[39;00m\n\u001b[0;32m   <a href='file:///c%3A/Users/ccxbo/miniconda3/envs/ml_hw4/lib/site-packages/matplotlib/axes/_axes.py?line=1391'>1392</a>\u001b[0m \n\u001b[1;32m   (...)\u001b[0m\n\u001b[0;32m   <a href='file:///c%3A/Users/ccxbo/miniconda3/envs/ml_hw4/lib/site-packages/matplotlib/axes/_axes.py?line=1628'>1629</a>\u001b[0m \u001b[39m(``'green'``) or hex strings (``'#008000'``).\u001b[39;00m\n\u001b[0;32m   <a href='file:///c%3A/Users/ccxbo/miniconda3/envs/ml_hw4/lib/site-packages/matplotlib/axes/_axes.py?line=1629'>1630</a>\u001b[0m \u001b[39m\"\"\"\u001b[39;00m\n\u001b[0;32m   <a href='file:///c%3A/Users/ccxbo/miniconda3/envs/ml_hw4/lib/site-packages/matplotlib/axes/_axes.py?line=1630'>1631</a>\u001b[0m kwargs \u001b[39m=\u001b[39m cbook\u001b[39m.\u001b[39mnormalize_kwargs(kwargs, mlines\u001b[39m.\u001b[39mLine2D)\n\u001b[1;32m-> <a href='file:///c%3A/Users/ccxbo/miniconda3/envs/ml_hw4/lib/site-packages/matplotlib/axes/_axes.py?line=1631'>1632</a>\u001b[0m lines \u001b[39m=\u001b[39m [\u001b[39m*\u001b[39m\u001b[39mself\u001b[39m\u001b[39m.\u001b[39m_get_lines(\u001b[39m*\u001b[39margs, data\u001b[39m=\u001b[39mdata, \u001b[39m*\u001b[39m\u001b[39m*\u001b[39mkwargs)]\n\u001b[0;32m   <a href='file:///c%3A/Users/ccxbo/miniconda3/envs/ml_hw4/lib/site-packages/matplotlib/axes/_axes.py?line=1632'>1633</a>\u001b[0m \u001b[39mfor\u001b[39;00m line \u001b[39min\u001b[39;00m lines:\n\u001b[0;32m   <a href='file:///c%3A/Users/ccxbo/miniconda3/envs/ml_hw4/lib/site-packages/matplotlib/axes/_axes.py?line=1633'>1634</a>\u001b[0m     \u001b[39mself\u001b[39m\u001b[39m.\u001b[39madd_line(line)\n",
      "File \u001b[1;32m~\\miniconda3\\envs\\ml_hw4\\lib\\site-packages\\matplotlib\\axes\\_base.py:312\u001b[0m, in \u001b[0;36m_process_plot_var_args.__call__\u001b[1;34m(self, data, *args, **kwargs)\u001b[0m\n\u001b[0;32m    <a href='file:///c%3A/Users/ccxbo/miniconda3/envs/ml_hw4/lib/site-packages/matplotlib/axes/_base.py?line=309'>310</a>\u001b[0m     this \u001b[39m+\u001b[39m\u001b[39m=\u001b[39m args[\u001b[39m0\u001b[39m],\n\u001b[0;32m    <a href='file:///c%3A/Users/ccxbo/miniconda3/envs/ml_hw4/lib/site-packages/matplotlib/axes/_base.py?line=310'>311</a>\u001b[0m     args \u001b[39m=\u001b[39m args[\u001b[39m1\u001b[39m:]\n\u001b[1;32m--> <a href='file:///c%3A/Users/ccxbo/miniconda3/envs/ml_hw4/lib/site-packages/matplotlib/axes/_base.py?line=311'>312</a>\u001b[0m \u001b[39myield from\u001b[39;00m \u001b[39mself\u001b[39;49m\u001b[39m.\u001b[39;49m_plot_args(this, kwargs)\n",
      "File \u001b[1;32m~\\miniconda3\\envs\\ml_hw4\\lib\\site-packages\\matplotlib\\axes\\_base.py:498\u001b[0m, in \u001b[0;36m_process_plot_var_args._plot_args\u001b[1;34m(self, tup, kwargs, return_kwargs)\u001b[0m\n\u001b[0;32m    <a href='file:///c%3A/Users/ccxbo/miniconda3/envs/ml_hw4/lib/site-packages/matplotlib/axes/_base.py?line=494'>495</a>\u001b[0m     \u001b[39mself\u001b[39m\u001b[39m.\u001b[39maxes\u001b[39m.\u001b[39myaxis\u001b[39m.\u001b[39mupdate_units(y)\n\u001b[0;32m    <a href='file:///c%3A/Users/ccxbo/miniconda3/envs/ml_hw4/lib/site-packages/matplotlib/axes/_base.py?line=496'>497</a>\u001b[0m \u001b[39mif\u001b[39;00m x\u001b[39m.\u001b[39mshape[\u001b[39m0\u001b[39m] \u001b[39m!=\u001b[39m y\u001b[39m.\u001b[39mshape[\u001b[39m0\u001b[39m]:\n\u001b[1;32m--> <a href='file:///c%3A/Users/ccxbo/miniconda3/envs/ml_hw4/lib/site-packages/matplotlib/axes/_base.py?line=497'>498</a>\u001b[0m     \u001b[39mraise\u001b[39;00m \u001b[39mValueError\u001b[39;00m(\u001b[39mf\u001b[39m\u001b[39m\"\u001b[39m\u001b[39mx and y must have same first dimension, but \u001b[39m\u001b[39m\"\u001b[39m\n\u001b[0;32m    <a href='file:///c%3A/Users/ccxbo/miniconda3/envs/ml_hw4/lib/site-packages/matplotlib/axes/_base.py?line=498'>499</a>\u001b[0m                      \u001b[39mf\u001b[39m\u001b[39m\"\u001b[39m\u001b[39mhave shapes \u001b[39m\u001b[39m{\u001b[39;00mx\u001b[39m.\u001b[39mshape\u001b[39m}\u001b[39;00m\u001b[39m and \u001b[39m\u001b[39m{\u001b[39;00my\u001b[39m.\u001b[39mshape\u001b[39m}\u001b[39;00m\u001b[39m\"\u001b[39m)\n\u001b[0;32m    <a href='file:///c%3A/Users/ccxbo/miniconda3/envs/ml_hw4/lib/site-packages/matplotlib/axes/_base.py?line=499'>500</a>\u001b[0m \u001b[39mif\u001b[39;00m x\u001b[39m.\u001b[39mndim \u001b[39m>\u001b[39m \u001b[39m2\u001b[39m \u001b[39mor\u001b[39;00m y\u001b[39m.\u001b[39mndim \u001b[39m>\u001b[39m \u001b[39m2\u001b[39m:\n\u001b[0;32m    <a href='file:///c%3A/Users/ccxbo/miniconda3/envs/ml_hw4/lib/site-packages/matplotlib/axes/_base.py?line=500'>501</a>\u001b[0m     \u001b[39mraise\u001b[39;00m \u001b[39mValueError\u001b[39;00m(\u001b[39mf\u001b[39m\u001b[39m\"\u001b[39m\u001b[39mx and y can be no greater than 2D, but have \u001b[39m\u001b[39m\"\u001b[39m\n\u001b[0;32m    <a href='file:///c%3A/Users/ccxbo/miniconda3/envs/ml_hw4/lib/site-packages/matplotlib/axes/_base.py?line=501'>502</a>\u001b[0m                      \u001b[39mf\u001b[39m\u001b[39m\"\u001b[39m\u001b[39mshapes \u001b[39m\u001b[39m{\u001b[39;00mx\u001b[39m.\u001b[39mshape\u001b[39m}\u001b[39;00m\u001b[39m and \u001b[39m\u001b[39m{\u001b[39;00my\u001b[39m.\u001b[39mshape\u001b[39m}\u001b[39;00m\u001b[39m\"\u001b[39m)\n",
      "\u001b[1;31mValueError\u001b[0m: x and y must have same first dimension, but have shapes (9,) and (0,)"
     ]
    },
    {
     "data": {
      "image/png": "[encoded data removed]",
      "text/plain": [
       "<Figure size 432x288 with 1 Axes>"
      ]
     },
     "metadata": {
      "needs_background": "light"
     },
     "output_type": "display_data"
    }
   ],
   "source": [
    "print(history.history.keys())\n",
    "plt.plot(range(2, 19, 2), scores)\n",
    "plt.title('PCA components with Neural Network')\n",
    "plt.xlabel('Number of components')\n",
    "plt.ylabel('Accuracy')\n",
    "plt.show() \n"
   ]
  }
 ],
 "metadata": {
  "kernelspec": {
   "display_name": "Python 3 (ipykernel)",
   "language": "python",
   "name": "python3"
  },
  "language_info": {
   "codemirror_mode": {
    "name": "ipython",
    "version": 3
   },
   "file_extension": ".py",
   "mimetype": "text/x-python",
   "name": "python",
   "nbconvert_exporter": "python",
   "pygments_lexer": "ipython3",
   "version": "3.8.13"
  }
 },
 "nbformat": 4,
 "nbformat_minor": 5
}
