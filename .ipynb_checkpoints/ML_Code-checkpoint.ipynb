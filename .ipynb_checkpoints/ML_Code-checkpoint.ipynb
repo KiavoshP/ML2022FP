{
 "cells": [
  {
   "cell_type": "markdown",
   "id": "822f28c4-036e-45ec-a30e-135e88a59d7d",
   "metadata": {},
   "source": [
    "<h1 style = 'color:red'>Prerequisites</hr>"
   ]
  },
  {
   "cell_type": "code",
   "execution_count": 1,
   "id": "4f53b270-0107-4972-b5b9-ec971fd47f5b",
   "metadata": {},
   "outputs": [],
   "source": [
    "import csv\n",
    "import pandas as pd\n",
    "import os\n",
    "import shutil\n",
    "import numpy as np\n",
    "from matplotlib import pyplot as plt\n",
    "from sklearn.cluster import KMeans\n",
    "from sklearn.preprocessing import StandardScaler\n",
    "from sklearn.decomposition import PCA\n",
    "from sklearn.linear_model import LogisticRegression\n",
    "\n",
    "def add_data(filename:str):\n",
    "\n",
    "    df = pd.read_csv(filename)\n",
    "    df[\"HomeWinRate\"] = float(\"nan\")\n",
    "    df[\"AwayWinRate\"] = float(\"nan\")\n",
    "    df[\"isWin\"] = float(\"nan\")\n",
    "\n",
    "    all_teams_list = []\n",
    "    file = open(filename)\n",
    "    csvreader = csv.DictReader(file)\n",
    "    for row in csvreader:\n",
    "        all_teams_list.append(row['HomeTeam'])\n",
    "        all_teams_list.append(row['AwayTeam'])\n",
    "\n",
    "    all_teams_list = list(set(all_teams_list))\n",
    "    all_teams_list.sort()\n",
    "\n",
    "    labels = [\n",
    "        (\"FTHG\", \"FTAG\"),\n",
    "        (\"HTHG\", \"HTAG\"),\n",
    "        (\"HS\", \"AS\"),\n",
    "        (\"HST\", \"AST\"),\n",
    "        (\"HF\", \"AF\"),\n",
    "        (\"HC\", \"AC\"),\n",
    "        (\"HY\", \"AY\"),\n",
    "        (\"HR\", \"AR\"),\n",
    "    ]\n",
    "\n",
    "    for team in all_teams_list:\n",
    "        a = df[(df['HomeTeam'] == team) | (df['AwayTeam'] == team)]\n",
    "        count = 0\n",
    "        perf = {\n",
    "            \"Wins\": 0,\n",
    "            \"FTHG\": 0,\n",
    "            \"HTHG\": 0,\n",
    "            \"HS\": 0,\n",
    "            \"HST\": 0,\n",
    "            \"HF\": 0,\n",
    "            \"HC\": 0,\n",
    "            \"HY\": 0,\n",
    "            \"HR\": 0,\n",
    "        }\n",
    "        # print(\"team: \" + str(team))\n",
    "        for i, row in a.iterrows():\n",
    "            if row['HomeTeam'] == team:\n",
    "                for l in labels:\n",
    "                    df.loc[i,l[0]] = (float(\"nan\") if count == 0 else perf[l[0]] / count)\n",
    "                    perf[l[0]] += row[l[0]]\n",
    "                df.loc[i,\"HomeWinRate\"] = (float(\"nan\") if count == 0 else perf[\"Wins\"] / count)\n",
    "                if row[\"FTR\"] == \"H\":\n",
    "                    perf[\"Wins\"] += 1\n",
    "                    df.loc[i,\"isWin\"] = 1\n",
    "                else:\n",
    "                    df.loc[i,\"isWin\"] = 0\n",
    "            elif row[\"AwayTeam\"] == team:\n",
    "                for l in labels:\n",
    "                    df.loc[i,l[1]] =  (float(\"nan\") if count == 0 else perf[l[0]] / count)\n",
    "                    perf[l[0]] += row[l[1]]\n",
    "                df.loc[i,\"AwayWinRate\"] = (float(\"nan\") if count == 0 else perf[\"Wins\"] / count)\n",
    "                if row[\"FTR\"] == \"A\":\n",
    "                    perf[\"Wins\"] += 1\n",
    "            else:\n",
    "                raise Exception(\"away team or home team not found\")\n",
    "            count += 1\n",
    "    #remove rows where average is NAN (we dont have historical data yet)\n",
    "    df = df[df['FTHG'].notna() & df['FTAG'].notna()]\n",
    "\n",
    "\n",
    "\n",
    "    return remove_cols(df)\n",
    "    \n",
    "\n",
    "def remove_cols(df):\n",
    "    labels = [\n",
    "        (\"FTHG\", \"FTAG\"),\n",
    "        (\"HTHG\", \"HTAG\"),\n",
    "        (\"HS\", \"AS\"),\n",
    "        (\"HST\", \"AST\"),\n",
    "        (\"HF\", \"AF\"),\n",
    "        (\"HC\", \"AC\"),\n",
    "        (\"HY\", \"AY\"),\n",
    "        (\"HR\", \"AR\"),\n",
    "    ]\n",
    "    columns = [\"Date\", \"HomeTeam\", \"AwayTeam\", \"AwayWinRate\", \"HomeWinRate\", \"FTR\", \"isWin\"]\n",
    "    h = [x[0] for x in labels]\n",
    "    a = [x[1] for x in labels]\n",
    "    kept_csv = h + a + columns\n",
    "    df.drop(df.columns.difference(kept_csv), 1, inplace=True)\n",
    "    return df\n",
    "\n",
    "def automated_preprocessing(addr):\n",
    "    data_dir = addr\n",
    "    #list of training and test set\n",
    "    training_set = ['1213','1314', '1415', '1516', '1617', '1718']\n",
    "    test_set = ['1819']\n",
    "\n",
    "    #Taking care of the first season to initialize the base DF\n",
    "    merged_orig = add_data(data_dir + training_set[0] +'\\\\merged.csv')\n",
    "    merged_orig = merged_orig.loc[:, merged_orig.columns!='Unnamed: 0']\n",
    "\n",
    "\n",
    "    for filename in training_set[1:]:\n",
    "        pd1 =  add_data(data_dir+filename+'\\\\'+'merged.csv')\n",
    "        pd1 = pd1.loc[:, pd1.columns!='Unnamed: 0']\n",
    "        merged_orig = merged_orig.append(pd1)\n",
    "        print('season ' +filename+' has been preprocessed and added to the base DF______')\n",
    "        \n",
    "    training_addr = data_dir+'Training_Testing\\\\training'+training_set[0]+'_TO_'+training_set[len(training_set) - 1]+'.csv'\n",
    "    merged_orig.to_csv(training_addr)\n",
    "    \n",
    "    testing_addr = data_dir+'Training_Testing\\\\testing_'+test_set[0]+'.csv'\n",
    "    testing_src = data_dir + test_set[0] +'\\\\'+'merged.csv'\n",
    "    pd1 =  add_data(testing_src)\n",
    "    pd1 = pd1.loc[:, pd1.columns!='Unnamed: 0']\n",
    "    pd1.to_csv(testing_addr)\n",
    "    print('testing ' +test_set[0]+' has been preprocessed and seperated______')\n",
    "    \n",
    "    \n",
    "    print('__________Removing NA__________')\n",
    "    testing_dest = data_dir +'\\\\'+'Training_Testing'+'\\\\testing_'+test_set[0]+'.csv'\n",
    "    training_ready_set, testing_ready_set = remove_NA([training_addr, testing_addr])\n",
    "    training_ready_set.to_csv(training_addr)\n",
    "    testing_ready_set.to_csv(testing_dest)\n",
    "    \n",
    "    return (training_ready_set, testing_ready_set)\n",
    "    \n",
    "def remove_NA(data_path):\n",
    "    holder = list()\n",
    "    for path in data_path:\n",
    "        data =  pd.read_csv(path)\n",
    "        data.columns[0:4].tolist()\n",
    "        data = data.drop(['Unnamed: 0', 'Date', 'HomeTeam', 'AwayTeam', 'FTR'],1).reset_index()\n",
    "        for i in data.columns.tolist():\n",
    "            data[i].replace('', np.nan, inplace=True)\n",
    "            data.dropna(subset=[i], inplace=True)\n",
    "        holder.append(data)\n",
    "        print(path + \" is cleaned\")\n",
    "    return holder[0], holder[1]"
   ]
  },
  {
   "cell_type": "markdown",
   "id": "6ac49dfb-1134-401d-80b7-5a1c76b98b5d",
   "metadata": {},
   "source": [
    "<h2 style = 'color: orange'>--PCA </h1>"
   ]
  },
  {
   "cell_type": "code",
   "execution_count": 2,
   "id": "f5bf299b-01a9-4611-9988-c4d5da7fb7f9",
   "metadata": {},
   "outputs": [
    {
     "name": "stderr",
     "output_type": "stream",
     "text": [
      "C:\\Users\\Kiavosh\\AppData\\Local\\Temp/ipykernel_34268/115950156.py:99: FutureWarning: In a future version of pandas all arguments of DataFrame.drop except for the argument 'labels' will be keyword-only\n",
      "  df.drop(df.columns.difference(kept_csv), 1, inplace=True)\n"
     ]
    },
    {
     "name": "stdout",
     "output_type": "stream",
     "text": [
      "season 1314 has been preprocessed and added to the base DF______\n",
      "season 1415 has been preprocessed and added to the base DF______\n",
      "season 1516 has been preprocessed and added to the base DF______\n",
      "season 1617 has been preprocessed and added to the base DF______\n",
      "season 1718 has been preprocessed and added to the base DF______\n",
      "testing 1819 has been preprocessed and seperated______\n",
      "__________Removing NA__________\n",
      "Final Project\\Training_Testing\\training1213_TO_1718.csv is cleaned\n",
      "Final Project\\Training_Testing\\testing_1819.csv is cleaned\n"
     ]
    },
    {
     "name": "stderr",
     "output_type": "stream",
     "text": [
      "C:\\Users\\Kiavosh\\AppData\\Local\\Temp/ipykernel_34268/115950156.py:143: FutureWarning: In a future version of pandas all arguments of DataFrame.drop except for the argument 'labels' will be keyword-only\n",
      "  data = data.drop(['Unnamed: 0', 'Date', 'HomeTeam', 'AwayTeam', 'FTR'],1).reset_index()\n"
     ]
    }
   ],
   "source": [
    "data_dir = 'Final Project\\\\'\n",
    "training_set, testing_set= automated_preprocessing(data_dir)\n"
   ]
  },
  {
   "cell_type": "markdown",
   "id": "e53409db-961f-40ee-9ad3-84c148acec51",
   "metadata": {},
   "source": [
    "<h2 style = 'color: orange'>--KMean </h1>"
   ]
  },
  {
   "cell_type": "code",
   "execution_count": 39,
   "id": "dbce1c78",
   "metadata": {},
   "outputs": [
    {
     "name": "stdout",
     "output_type": "stream",
     "text": [
      "      index      FTHG      FTAG      HTHG      HTAG         HS         AS  \\\n",
      "0         0  1.000000  4.000000  0.000000  3.000000  13.000000  10.000000   \n",
      "1         1  2.000000  2.000000  0.000000  0.000000  14.000000  17.000000   \n",
      "2         2  2.000000  1.000000  1.000000  0.000000  10.000000  15.000000   \n",
      "3         3  1.000000  0.000000  0.000000  0.000000   8.000000  22.000000   \n",
      "4         4  0.000000  2.000000  0.000000  1.000000  13.000000  11.000000   \n",
      "...     ...       ...       ...       ...       ...        ...        ...   \n",
      "1770   1770  2.351351  1.270270  1.000000  0.459459  15.162162  12.621622   \n",
      "1771   1771  1.756757  0.864865  0.945946  0.270270  13.513514  10.918919   \n",
      "1772   1772  1.189189  0.567568  0.567568  0.297297  12.702703  10.540541   \n",
      "1773   1773  1.756757  1.405405  0.810811  0.675676  14.189189  12.918919   \n",
      "1774   1774  1.378378  1.297297  0.486486  0.540541  11.270270  11.486486   \n",
      "\n",
      "           HST       AST         HF         AF        HC        AC        HY  \\\n",
      "0     4.000000  5.000000   6.000000   8.000000  3.000000  7.000000  0.000000   \n",
      "1     7.000000  7.000000  10.000000  10.000000  5.000000  9.000000  0.000000   \n",
      "2     2.000000  3.000000  12.000000   5.000000  4.000000  4.000000  2.000000   \n",
      "3     5.000000  6.000000  21.000000   7.000000  2.000000  6.000000  4.000000   \n",
      "4     3.000000  7.000000  10.000000  16.000000  5.000000  7.000000  2.000000   \n",
      "...        ...       ...        ...        ...       ...       ...       ...   \n",
      "1770  5.972973  4.027027   8.432432  10.756757  6.621622  5.243243  1.000000   \n",
      "1771  5.810811  3.297297  11.459459  10.216216  5.108108  4.486486  1.891892   \n",
      "1772  4.297297  3.108108  11.135135  11.189189  5.108108  4.297297  1.918919   \n",
      "1773  5.027027  4.324324   9.864865  11.324324  5.054054  5.702703  1.513514   \n",
      "1774  3.864865  4.000000  11.432432   8.675676  4.594595  5.000000  2.054054   \n",
      "\n",
      "            AY        HR        AR  HomeWinRate  AwayWinRate  isWin  \n",
      "0     2.000000  0.000000  0.000000     0.000000     1.000000    0.0  \n",
      "1     1.000000  0.000000  0.000000     1.000000     1.000000    0.0  \n",
      "2     0.000000  0.000000  0.000000     1.000000     0.000000    0.0  \n",
      "3     1.000000  0.000000  0.000000     0.000000     0.000000    1.0  \n",
      "4     5.000000  0.000000  0.000000     0.000000     1.000000    0.0  \n",
      "...        ...       ...       ...          ...          ...    ...  \n",
      "1770  1.891892  0.054054  0.027027     0.783784     0.432432    1.0  \n",
      "1771  1.675676  0.108108  0.027027     0.513514     0.243243    0.0  \n",
      "1772  1.459459  0.081081  0.108108     0.243243     0.081081    0.0  \n",
      "1773  1.432432  0.081081  0.108108     0.621622     0.405405    0.0  \n",
      "1774  1.594595  0.081081  0.027027     0.378378     0.378378    0.0  \n",
      "\n",
      "[1775 rows x 20 columns]\n"
     ]
    }
   ],
   "source": [
    "print(testing_set)\n"
   ]
  },
  {
   "cell_type": "code",
   "execution_count": null,
   "id": "19625df2-73c4-4a9e-af94-45066b3705a7",
   "metadata": {},
   "outputs": [],
   "source": [
    "#--------------- Elbow to find see the best number of cluster\n",
    "wcss = []\n",
    "for i in range(1, 11):\n",
    "    kmeans = KMeans(n_clusters=i, init='k-means++', max_iter=300, n_init=10, random_state=0)\n",
    "    kmeans.fit(X)\n",
    "    wcss.append(kmeans.inertia_)\n",
    "plt.plot(range(1, 11), wcss)\n",
    "plt.title('Elbow Method')\n",
    "plt.xlabel('Number of clusters')\n",
    "plt.ylabel('WCSS')\n",
    "plt.show() \n"
   ]
  },
  {
   "cell_type": "code",
   "execution_count": null,
   "id": "7bdca6e5-be01-4ff8-8be5-9914aaed6b03",
   "metadata": {},
   "outputs": [],
   "source": [
    "n_cluster = 3\n",
    "#--------------- Selecting the best n as our n_cluster\n",
    "kmeans = KMeans(n_cluster, init='k-means++', max_iter=300, n_init=300, random_state=0)\n",
    "pred_y = kmeans.fit_predict(X)\n",
    "\n",
    "#--------------- Viz our clusters\n",
    "plt.scatter(X[:,0], X[:,1])\n",
    "plt.scatter(kmeans.cluster_centers_[:, 0], kmeans.cluster_centers_[:, 1], s=300, c='red')\n",
    "plt.show()\n"
   ]
  },
  {
   "cell_type": "code",
   "execution_count": null,
   "id": "16003561-0ac7-4b1f-a432-90b987e82bc5",
   "metadata": {},
   "outputs": [],
   "source": [
    "labels2 = kmeans.labels_\n",
    "centroids2=kmeans.cluster_centers_\n",
    "UD = training_set[[i for i in training_set.columns if i not in [\"isWin\", \"label\"]]]\n",
    "legend = [list(UD.columns), list(UD.columns)]\n",
    "t_l = list()\n",
    "for i in legend[0]:\n",
    "    for j in legend[1]:\n",
    "        t_l.append((i, j))\n",
    "        \n",
    "h = 0.003\n",
    "x_min, x_max = X[:, 0].min() - 1, X[: , 0].max() + 1\n",
    "y_min, y_max = X[:, 1].min() - 1, X[: , 1].max() + 1\n",
    "xx, yy = np.meshgrid(np.arange(x_min, x_max, h), np.arange(y_min, y_max, h))\n",
    "z2 = kmeans.predict(np.c_[xx.ravel(), yy.ravel()])\n",
    "\n",
    "plt.figure(1, figsize = (15, 7))\n",
    "plt.clf()\n",
    "z2 = z2.reshape(xx.shape)\n",
    "plt.imshow(z2, interpolation='nearest', extent=(xx.min(), xx.max(), yy.min(), yy.max()), cmap = plt.cm.Pastel2, aspect = 'auto', origin='lower')\n",
    "plt.scatter(X[:,0], X[:,1], c = labels2, s = 100)\n",
    "plt.scatter(x = centroids2[:, 0], y = centroids2[:, 1], s = 200, c = 'red', alpha = 0.5)\n",
    "plt.ylabel, plt.xlabel\n",
    "plt.show()"
   ]
  },
  {
   "cell_type": "code",
   "execution_count": 40,
   "id": "5eb1c0a4",
   "metadata": {},
   "outputs": [],
   "source": [
    "testing_set_x = testing_set.drop(\"isWin\", axis=1)\n",
    "training_set_x = training_set.drop(\"isWin\", axis=1)\n",
    "\n",
    "X_test = testing_set_x.to_numpy()\n",
    "X = training_set_x.to_numpy()\n",
    "\n",
    "X_input_test = StandardScaler().fit_transform(X_test)\n",
    "X_input = StandardScaler().fit_transform(X)"
   ]
  },
  {
   "cell_type": "code",
   "execution_count": 43,
   "id": "43115228",
   "metadata": {},
   "outputs": [
    {
     "name": "stderr",
     "output_type": "stream",
     "text": [
      "C:\\Users\\ccxbo\\miniconda3\\envs\\ml_hw3\\lib\\site-packages\\sklearn\\utils\\validation.py:993: DataConversionWarning: A column-vector y was passed when a 1d array was expected. Please change the shape of y to (n_samples, ), for example using ravel().\n",
      "  y = column_or_1d(y, warn=True)\n",
      "C:\\Users\\ccxbo\\miniconda3\\envs\\ml_hw3\\lib\\site-packages\\sklearn\\utils\\validation.py:993: DataConversionWarning: A column-vector y was passed when a 1d array was expected. Please change the shape of y to (n_samples, ), for example using ravel().\n",
      "  y = column_or_1d(y, warn=True)\n",
      "C:\\Users\\ccxbo\\miniconda3\\envs\\ml_hw3\\lib\\site-packages\\sklearn\\utils\\validation.py:993: DataConversionWarning: A column-vector y was passed when a 1d array was expected. Please change the shape of y to (n_samples, ), for example using ravel().\n",
      "  y = column_or_1d(y, warn=True)\n",
      "C:\\Users\\ccxbo\\miniconda3\\envs\\ml_hw3\\lib\\site-packages\\sklearn\\utils\\validation.py:993: DataConversionWarning: A column-vector y was passed when a 1d array was expected. Please change the shape of y to (n_samples, ), for example using ravel().\n",
      "  y = column_or_1d(y, warn=True)\n",
      "C:\\Users\\ccxbo\\miniconda3\\envs\\ml_hw3\\lib\\site-packages\\sklearn\\utils\\validation.py:993: DataConversionWarning: A column-vector y was passed when a 1d array was expected. Please change the shape of y to (n_samples, ), for example using ravel().\n",
      "  y = column_or_1d(y, warn=True)\n",
      "C:\\Users\\ccxbo\\miniconda3\\envs\\ml_hw3\\lib\\site-packages\\sklearn\\utils\\validation.py:993: DataConversionWarning: A column-vector y was passed when a 1d array was expected. Please change the shape of y to (n_samples, ), for example using ravel().\n",
      "  y = column_or_1d(y, warn=True)\n",
      "C:\\Users\\ccxbo\\miniconda3\\envs\\ml_hw3\\lib\\site-packages\\sklearn\\utils\\validation.py:993: DataConversionWarning: A column-vector y was passed when a 1d array was expected. Please change the shape of y to (n_samples, ), for example using ravel().\n",
      "  y = column_or_1d(y, warn=True)\n",
      "C:\\Users\\ccxbo\\miniconda3\\envs\\ml_hw3\\lib\\site-packages\\sklearn\\utils\\validation.py:993: DataConversionWarning: A column-vector y was passed when a 1d array was expected. Please change the shape of y to (n_samples, ), for example using ravel().\n",
      "  y = column_or_1d(y, warn=True)\n",
      "C:\\Users\\ccxbo\\miniconda3\\envs\\ml_hw3\\lib\\site-packages\\sklearn\\utils\\validation.py:993: DataConversionWarning: A column-vector y was passed when a 1d array was expected. Please change the shape of y to (n_samples, ), for example using ravel().\n",
      "  y = column_or_1d(y, warn=True)\n",
      "C:\\Users\\ccxbo\\miniconda3\\envs\\ml_hw3\\lib\\site-packages\\sklearn\\utils\\validation.py:993: DataConversionWarning: A column-vector y was passed when a 1d array was expected. Please change the shape of y to (n_samples, ), for example using ravel().\n",
      "  y = column_or_1d(y, warn=True)\n",
      "C:\\Users\\ccxbo\\miniconda3\\envs\\ml_hw3\\lib\\site-packages\\sklearn\\utils\\validation.py:993: DataConversionWarning: A column-vector y was passed when a 1d array was expected. Please change the shape of y to (n_samples, ), for example using ravel().\n",
      "  y = column_or_1d(y, warn=True)\n",
      "C:\\Users\\ccxbo\\miniconda3\\envs\\ml_hw3\\lib\\site-packages\\sklearn\\utils\\validation.py:993: DataConversionWarning: A column-vector y was passed when a 1d array was expected. Please change the shape of y to (n_samples, ), for example using ravel().\n",
      "  y = column_or_1d(y, warn=True)\n",
      "C:\\Users\\ccxbo\\miniconda3\\envs\\ml_hw3\\lib\\site-packages\\sklearn\\utils\\validation.py:993: DataConversionWarning: A column-vector y was passed when a 1d array was expected. Please change the shape of y to (n_samples, ), for example using ravel().\n",
      "  y = column_or_1d(y, warn=True)\n",
      "C:\\Users\\ccxbo\\miniconda3\\envs\\ml_hw3\\lib\\site-packages\\sklearn\\utils\\validation.py:993: DataConversionWarning: A column-vector y was passed when a 1d array was expected. Please change the shape of y to (n_samples, ), for example using ravel().\n",
      "  y = column_or_1d(y, warn=True)\n",
      "C:\\Users\\ccxbo\\miniconda3\\envs\\ml_hw3\\lib\\site-packages\\sklearn\\utils\\validation.py:993: DataConversionWarning: A column-vector y was passed when a 1d array was expected. Please change the shape of y to (n_samples, ), for example using ravel().\n",
      "  y = column_or_1d(y, warn=True)\n",
      "C:\\Users\\ccxbo\\miniconda3\\envs\\ml_hw3\\lib\\site-packages\\sklearn\\utils\\validation.py:993: DataConversionWarning: A column-vector y was passed when a 1d array was expected. Please change the shape of y to (n_samples, ), for example using ravel().\n",
      "  y = column_or_1d(y, warn=True)\n",
      "C:\\Users\\ccxbo\\miniconda3\\envs\\ml_hw3\\lib\\site-packages\\sklearn\\utils\\validation.py:993: DataConversionWarning: A column-vector y was passed when a 1d array was expected. Please change the shape of y to (n_samples, ), for example using ravel().\n",
      "  y = column_or_1d(y, warn=True)\n"
     ]
    },
    {
     "data": {
      "image/png": "[encoded data removed]",
      "text/plain": [
       "<Figure size 432x288 with 1 Axes>"
      ]
     },
     "metadata": {
      "needs_background": "light"
     },
     "output_type": "display_data"
    }
   ],
   "source": [
    "scores = []\n",
    "\n",
    "for i in range(2, 19):\n",
    "    pca = PCA(n_components=i)\n",
    "    X = pca.fit_transform(X_input)\n",
    "    X_test = pca.fit_transform(X_input_test)\n",
    "\n",
    "    train_y = training_set[[\"isWin\"]]\n",
    "    test_y = testing_set[[\"isWin\"]]\n",
    "\n",
    "    model = LogisticRegression(solver='liblinear', random_state=0)\n",
    "    model.fit(X, train_y)\n",
    "    score = model.score(X_test, test_y)\n",
    "    \n",
    "    scores.append(score)\n",
    "model = LogisticRegression(solver='liblinear', random_state=0)\n",
    "model.fit(X, train_y)\n",
    "score = model.score(X_test, test_y)\n",
    "B = \n",
    "\n",
    "plt.plot(range(2, 19), scores)\n",
    "plt.title('Elbow Method')\n",
    "plt.xlabel('Number of clusters')\n",
    "plt.ylabel('WCSS')\n",
    "plt.show() \n",
    "\n",
    "\n"
   ]
  },
  {
   "cell_type": "markdown",
   "id": "0f5fd3ba-6ecb-45f8-a52d-4e47e9a09088",
   "metadata": {},
   "source": [
    "# SVM"
   ]
  },
  {
   "cell_type": "code",
   "execution_count": 4,
   "id": "4bd54a1a-0b1d-4384-a4b6-60d51c3f7875",
   "metadata": {},
   "outputs": [],
   "source": [
    "import pandas as pd\n",
    "import numpy as np\n",
    "import matplotlib.pyplot as plt\n",
    "import seaborn as sns\n",
    "#classic datasets from sklearn library\n",
    "from sklearn import datasets\n",
    "from sklearn.model_selection import train_test_split\n",
    "#Support Vector Classification-wrapper around SVM\n",
    "from sklearn.svm import SVC\n",
    "#different matrices to score model performance\n",
    "from sklearn import metrics\n",
    "from sklearn.metrics import classification_report,confusion_matrix"
   ]
  },
  {
   "cell_type": "code",
   "execution_count": 17,
   "id": "c7543371-af33-4a10-be05-81c0d14879ec",
   "metadata": {},
   "outputs": [],
   "source": [
    "testing_set_x = testing_set.drop(\"isWin\", axis=1)\n",
    "training_set_x = training_set.drop(\"isWin\", axis=1)\n",
    "\n",
    "X_test = testing_set_x.to_numpy()\n",
    "X = training_set_x.to_numpy()\n",
    "\n",
    "X_input_test = StandardScaler().fit_transform(X_test)\n",
    "X_input = StandardScaler().fit_transform(X)\n",
    "\n",
    "pca = PCA(n_components = 4)\n",
    "\n",
    "X = pca.fit_transform(X_input)\n",
    "X_test = pca.fit_transform(X_input_test)\n",
    "\n",
    "train_y = training_set[[\"isWin\"]]\n",
    "test_y = testing_set[[\"isWin\"]]\n"
   ]
  },
  {
   "cell_type": "code",
   "execution_count": 18,
   "id": "a4fa4f5f-3a38-4d5a-8214-e419a5c9881f",
   "metadata": {},
   "outputs": [],
   "source": [
    "model = SVC(kernel='linear', random_state = 10)\n",
    "\n"
   ]
  },
  {
   "cell_type": "code",
   "execution_count": 31,
   "id": "5714c126-1f69-496e-b2c9-37f880c29850",
   "metadata": {},
   "outputs": [
    {
     "name": "stderr",
     "output_type": "stream",
     "text": [
      "C:\\Users\\Kiavosh\\anaconda3\\lib\\site-packages\\sklearn\\utils\\validation.py:63: DataConversionWarning: A column-vector y was passed when a 1d array was expected. Please change the shape of y to (n_samples, ), for example using ravel().\n",
      "  return f(*args, **kwargs)\n"
     ]
    },
    {
     "name": "stdout",
     "output_type": "stream",
     "text": [
      "______________model is fit______________\n",
      "______________pred is done______________\n"
     ]
    },
    {
     "name": "stderr",
     "output_type": "stream",
     "text": [
      "C:\\Users\\Kiavosh\\anaconda3\\lib\\site-packages\\sklearn\\utils\\validation.py:63: DataConversionWarning: A column-vector y was passed when a 1d array was expected. Please change the shape of y to (n_samples, ), for example using ravel().\n",
      "  return f(*args, **kwargs)\n"
     ]
    },
    {
     "name": "stdout",
     "output_type": "stream",
     "text": [
      "______________model is fit______________\n",
      "______________pred is done______________\n"
     ]
    },
    {
     "name": "stderr",
     "output_type": "stream",
     "text": [
      "C:\\Users\\Kiavosh\\anaconda3\\lib\\site-packages\\sklearn\\utils\\validation.py:63: DataConversionWarning: A column-vector y was passed when a 1d array was expected. Please change the shape of y to (n_samples, ), for example using ravel().\n",
      "  return f(*args, **kwargs)\n"
     ]
    },
    {
     "name": "stdout",
     "output_type": "stream",
     "text": [
      "______________model is fit______________\n",
      "______________pred is done______________\n"
     ]
    },
    {
     "name": "stderr",
     "output_type": "stream",
     "text": [
      "C:\\Users\\Kiavosh\\anaconda3\\lib\\site-packages\\sklearn\\utils\\validation.py:63: DataConversionWarning: A column-vector y was passed when a 1d array was expected. Please change the shape of y to (n_samples, ), for example using ravel().\n",
      "  return f(*args, **kwargs)\n"
     ]
    },
    {
     "name": "stdout",
     "output_type": "stream",
     "text": [
      "______________model is fit______________\n",
      "______________pred is done______________\n"
     ]
    },
    {
     "name": "stderr",
     "output_type": "stream",
     "text": [
      "C:\\Users\\Kiavosh\\anaconda3\\lib\\site-packages\\sklearn\\utils\\validation.py:63: DataConversionWarning: A column-vector y was passed when a 1d array was expected. Please change the shape of y to (n_samples, ), for example using ravel().\n",
      "  return f(*args, **kwargs)\n"
     ]
    },
    {
     "name": "stdout",
     "output_type": "stream",
     "text": [
      "______________model is fit______________\n",
      "______________pred is done______________\n"
     ]
    },
    {
     "name": "stderr",
     "output_type": "stream",
     "text": [
      "C:\\Users\\Kiavosh\\anaconda3\\lib\\site-packages\\sklearn\\utils\\validation.py:63: DataConversionWarning: A column-vector y was passed when a 1d array was expected. Please change the shape of y to (n_samples, ), for example using ravel().\n",
      "  return f(*args, **kwargs)\n"
     ]
    },
    {
     "name": "stdout",
     "output_type": "stream",
     "text": [
      "______________model is fit______________\n",
      "______________pred is done______________\n"
     ]
    },
    {
     "name": "stderr",
     "output_type": "stream",
     "text": [
      "C:\\Users\\Kiavosh\\anaconda3\\lib\\site-packages\\sklearn\\utils\\validation.py:63: DataConversionWarning: A column-vector y was passed when a 1d array was expected. Please change the shape of y to (n_samples, ), for example using ravel().\n",
      "  return f(*args, **kwargs)\n"
     ]
    },
    {
     "name": "stdout",
     "output_type": "stream",
     "text": [
      "______________model is fit______________\n",
      "______________pred is done______________\n"
     ]
    },
    {
     "name": "stderr",
     "output_type": "stream",
     "text": [
      "C:\\Users\\Kiavosh\\anaconda3\\lib\\site-packages\\sklearn\\utils\\validation.py:63: DataConversionWarning: A column-vector y was passed when a 1d array was expected. Please change the shape of y to (n_samples, ), for example using ravel().\n",
      "  return f(*args, **kwargs)\n"
     ]
    },
    {
     "name": "stdout",
     "output_type": "stream",
     "text": [
      "______________model is fit______________\n",
      "______________pred is done______________\n"
     ]
    },
    {
     "name": "stderr",
     "output_type": "stream",
     "text": [
      "C:\\Users\\Kiavosh\\anaconda3\\lib\\site-packages\\sklearn\\utils\\validation.py:63: DataConversionWarning: A column-vector y was passed when a 1d array was expected. Please change the shape of y to (n_samples, ), for example using ravel().\n",
      "  return f(*args, **kwargs)\n"
     ]
    },
    {
     "name": "stdout",
     "output_type": "stream",
     "text": [
      "______________model is fit______________\n",
      "______________pred is done______________\n"
     ]
    },
    {
     "name": "stderr",
     "output_type": "stream",
     "text": [
      "C:\\Users\\Kiavosh\\anaconda3\\lib\\site-packages\\sklearn\\utils\\validation.py:63: DataConversionWarning: A column-vector y was passed when a 1d array was expected. Please change the shape of y to (n_samples, ), for example using ravel().\n",
      "  return f(*args, **kwargs)\n"
     ]
    },
    {
     "name": "stdout",
     "output_type": "stream",
     "text": [
      "______________model is fit______________\n",
      "______________pred is done______________\n"
     ]
    },
    {
     "name": "stderr",
     "output_type": "stream",
     "text": [
      "C:\\Users\\Kiavosh\\anaconda3\\lib\\site-packages\\sklearn\\utils\\validation.py:63: DataConversionWarning: A column-vector y was passed when a 1d array was expected. Please change the shape of y to (n_samples, ), for example using ravel().\n",
      "  return f(*args, **kwargs)\n"
     ]
    },
    {
     "name": "stdout",
     "output_type": "stream",
     "text": [
      "______________model is fit______________\n",
      "______________pred is done______________\n"
     ]
    },
    {
     "name": "stderr",
     "output_type": "stream",
     "text": [
      "C:\\Users\\Kiavosh\\anaconda3\\lib\\site-packages\\sklearn\\utils\\validation.py:63: DataConversionWarning: A column-vector y was passed when a 1d array was expected. Please change the shape of y to (n_samples, ), for example using ravel().\n",
      "  return f(*args, **kwargs)\n"
     ]
    },
    {
     "name": "stdout",
     "output_type": "stream",
     "text": [
      "______________model is fit______________\n",
      "______________pred is done______________\n"
     ]
    },
    {
     "name": "stderr",
     "output_type": "stream",
     "text": [
      "C:\\Users\\Kiavosh\\anaconda3\\lib\\site-packages\\sklearn\\utils\\validation.py:63: DataConversionWarning: A column-vector y was passed when a 1d array was expected. Please change the shape of y to (n_samples, ), for example using ravel().\n",
      "  return f(*args, **kwargs)\n"
     ]
    },
    {
     "name": "stdout",
     "output_type": "stream",
     "text": [
      "______________model is fit______________\n",
      "______________pred is done______________\n"
     ]
    },
    {
     "name": "stderr",
     "output_type": "stream",
     "text": [
      "C:\\Users\\Kiavosh\\anaconda3\\lib\\site-packages\\sklearn\\utils\\validation.py:63: DataConversionWarning: A column-vector y was passed when a 1d array was expected. Please change the shape of y to (n_samples, ), for example using ravel().\n",
      "  return f(*args, **kwargs)\n"
     ]
    },
    {
     "name": "stdout",
     "output_type": "stream",
     "text": [
      "______________model is fit______________\n",
      "______________pred is done______________\n"
     ]
    },
    {
     "name": "stderr",
     "output_type": "stream",
     "text": [
      "C:\\Users\\Kiavosh\\anaconda3\\lib\\site-packages\\sklearn\\utils\\validation.py:63: DataConversionWarning: A column-vector y was passed when a 1d array was expected. Please change the shape of y to (n_samples, ), for example using ravel().\n",
      "  return f(*args, **kwargs)\n"
     ]
    },
    {
     "name": "stdout",
     "output_type": "stream",
     "text": [
      "______________model is fit______________\n",
      "______________pred is done______________\n"
     ]
    },
    {
     "name": "stderr",
     "output_type": "stream",
     "text": [
      "C:\\Users\\Kiavosh\\anaconda3\\lib\\site-packages\\sklearn\\utils\\validation.py:63: DataConversionWarning: A column-vector y was passed when a 1d array was expected. Please change the shape of y to (n_samples, ), for example using ravel().\n",
      "  return f(*args, **kwargs)\n"
     ]
    },
    {
     "name": "stdout",
     "output_type": "stream",
     "text": [
      "______________model is fit______________\n",
      "______________pred is done______________\n"
     ]
    },
    {
     "name": "stderr",
     "output_type": "stream",
     "text": [
      "C:\\Users\\Kiavosh\\anaconda3\\lib\\site-packages\\sklearn\\utils\\validation.py:63: DataConversionWarning: A column-vector y was passed when a 1d array was expected. Please change the shape of y to (n_samples, ), for example using ravel().\n",
      "  return f(*args, **kwargs)\n"
     ]
    },
    {
     "name": "stdout",
     "output_type": "stream",
     "text": [
      "______________model is fit______________\n",
      "______________pred is done______________\n"
     ]
    }
   ],
   "source": [
    "scores = list()\n",
    "for i in range(2, 19):\n",
    "    pca = PCA(n_components=i)\n",
    "    X = pca.fit_transform(X_input)\n",
    "    X_test = pca.fit_transform(X_input_test)\n",
    "\n",
    "    train_y = training_set[[\"isWin\"]]\n",
    "    test_y = testing_set[[\"isWin\"]]\n",
    "\n",
    "    model.fit(X, train_y)\n",
    "    print(\"______________model is fit______________\")\n",
    "    pred = model.predict(X_test)\n",
    "\n",
    "    print(\"______________pred is done______________\")\n",
    "\n",
    "    cm = confusion_matrix(test_y, pred)\n",
    "    plt.rcParams['figure.figsize'] = [15,8]\n",
    "    score = metrics.accuracy_score(test_y, pred)\n",
    "    \n",
    "    scores.append(score)\n",
    "\n",
    "print(\"PCA ittr is done\")"
   ]
  },
  {
   "cell_type": "code",
   "execution_count": 32,
   "id": "24190376-1085-44e7-9cf9-ad2328244590",
   "metadata": {},
   "outputs": [
    {
     "data": {
      "image/png": "[encoded data removed]",
      "text/plain": [
       "<Figure size 1080x576 with 1 Axes>"
      ]
     },
     "metadata": {
      "needs_background": "light"
     },
     "output_type": "display_data"
    }
   ],
   "source": [
    "plt.plot(range(2, 19), scores)\n",
    "plt.title('Elbow Method')\n",
    "plt.xlabel('Number of clusters')\n",
    "plt.ylabel('WCSS')\n",
    "plt.show() "
   ]
  },
  {
   "cell_type": "code",
   "execution_count": 19,
   "id": "8abef5ed-768c-4951-b320-4e0ee4723bc8",
   "metadata": {},
   "outputs": [
    {
     "name": "stderr",
     "output_type": "stream",
     "text": [
      "C:\\Users\\Kiavosh\\anaconda3\\lib\\site-packages\\sklearn\\utils\\validation.py:63: DataConversionWarning: A column-vector y was passed when a 1d array was expected. Please change the shape of y to (n_samples, ), for example using ravel().\n",
      "  return f(*args, **kwargs)\n"
     ]
    },
    {
     "data": {
      "text/plain": [
       "SVC(kernel='linear', random_state=10)"
      ]
     },
     "execution_count": 19,
     "metadata": {},
     "output_type": "execute_result"
    }
   ],
   "source": [
    "model.fit(X, train_y)\n",
    "print(\"______________model is fit______________\")\n",
    "pred = model.predict(X_test)\n",
    "\n",
    "print(\"______________pred is done______________\")\n",
    "\n",
    "cm = confusion_matrix(test_y, pred)\n",
    "plt.rcParams['figure.figsize'] = [15,8]\n",
    "\n",
    "\n",
    "conf_matrix = pd.DataFrame(data = cm,columns = ['Predicted:0','Predicted:1'], index = ['Actual:0','Actual:1'])\n",
    "sns.heatmap(conf_matrix, annot = True, fmt = 'd', cmap = 'Paired', cbar = False,linewidths = 0.1, annot_kws = {'size':25})\n",
    "plt.xticks(fontsize = 20)\n",
    "plt.yticks(fontsize = 20)\n",
    "plt.show()"
   ]
  },
  {
   "cell_type": "code",
   "execution_count": 20,
   "id": "0ba9140e-2044-433e-a720-0ee176346e3f",
   "metadata": {},
   "outputs": [
    {
     "data": {
      "text/plain": [
       "array([[761, 222],\n",
       "       [408, 384]], dtype=int64)"
      ]
     },
     "execution_count": 20,
     "metadata": {},
     "output_type": "execute_result"
    }
   ],
   "source": []
  },
  {
   "cell_type": "code",
   "execution_count": 21,
   "id": "51422b37-4a8b-4c32-9ea4-e6cacb5c0d01",
   "metadata": {},
   "outputs": [
    {
     "data": {
      "image/png": "[encoded data removed]",
      "text/plain": [
       "<Figure size 1080x576 with 1 Axes>"
      ]
     },
     "metadata": {
      "needs_background": "light"
     },
     "output_type": "display_data"
    }
   ],
   "source": []
  },
  {
   "cell_type": "code",
   "execution_count": 29,
   "id": "2a43802a-4910-4c3b-a046-28934a2a1e1a",
   "metadata": {},
   "outputs": [
    {
     "name": "stdout",
     "output_type": "stream",
     "text": [
      "Accuracy: 0.6450704225352113\n"
     ]
    }
   ],
   "source": [
    "print(\"Accuracy:\",)"
   ]
  },
  {
   "cell_type": "code",
   "execution_count": null,
   "id": "93e444bd-ec4a-44ac-bfe3-53c34f3e4eed",
   "metadata": {},
   "outputs": [],
   "source": []
  }
 ],
 "metadata": {
  "kernelspec": {
   "display_name": "Python 3 (ipykernel)",
   "language": "python",
   "name": "python3"
  },
  "language_info": {
   "codemirror_mode": {
    "name": "ipython",
    "version": 3
   },
   "file_extension": ".py",
   "mimetype": "text/x-python",
   "name": "python",
   "nbconvert_exporter": "python",
   "pygments_lexer": "ipython3",
   "version": "3.9.7"
  }
 },
 "nbformat": 4,
 "nbformat_minor": 5
}
